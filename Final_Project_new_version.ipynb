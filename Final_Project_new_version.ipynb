{
 "cells": [
  {
   "cell_type": "markdown",
   "metadata": {},
   "source": [
    "# __CMSE  201 - Spring 2020__\n",
    "\n",
    "<img src=\"https://cmse.msu.edu/sites/_cmse/assets/Image/image001.png\"\n",
    "     alt=\"CMSE Grapical Image\"\n",
    "     style=\"float: right; margin-right: 10px;\" \n",
    "     height=\"164\" \n",
    "     width=\"164\" />\n",
    "\n",
    "\n",
    "# The Simulation of Two restaurants in ABM\n",
    "\n",
    "### &#9989; Hao Wang\n",
    "### &#9989; Section_001\n",
    "#### &#9989; 4/18\n",
    "\n",
    "___"
   ]
  },
  {
   "cell_type": "markdown",
   "metadata": {},
   "source": [
    "## Background and Motivation"
   ]
  },
  {
   "cell_type": "markdown",
   "metadata": {},
   "source": [
    "This Project want to simulate dynamic changing in different Food Delivery APP's strategy by uisng the Agent Based Model. We assume that there are 64 customers in town and there are two food delivery Apps, they can use to order foods. There are two rules:\n",
    "\n",
    "* If all friends around a person to eat in same place, the person will have more chance go to that restaurant. \n",
    "* If one company dropped their price in restaurant to a very low point, the customer will choose to eat more times in this restaurant\n"
   ]
  },
  {
   "cell_type": "code",
   "execution_count": 116,
   "metadata": {},
   "outputs": [],
   "source": [
    "#import Part\n",
    "%matplotlib inline\n",
    "import numpy as np\n",
    "import math\n",
    "import matplotlib.pyplot as plt\n",
    "%matplotlib inline\n",
    "import time\n",
    "import pandas as pd\n",
    "import seaborn as sns\n",
    "from IPython.display import display, clear_output\n",
    "import random as rd\n",
    "import time"
   ]
  },
  {
   "cell_type": "markdown",
   "metadata": {},
   "source": [
    "## Methodology"
   ]
  },
  {
   "cell_type": "markdown",
   "metadata": {},
   "source": [
    "First, we set up Restarant_A,  Restarant_B.\n",
    "\n",
    "we seperate the total 64 people in three categories, which represent customer's preference in these two restaurants. \n",
    "* 1: people very like to eat in Restaurant_B, no matter the marketing strategy other restaurant used to attract more customers. \n",
    "* 0: people very like to eat in Restaurant_A, no matter the marketing strategy other restaurant used to attract more customers.\n",
    "* (0-1): In this interval, people mostly likely are effected by different marketing strategies. For example, if Restaurant-A dropped their price, this kind of poeple willing to change their taste. \n"
   ]
  },
  {
   "cell_type": "code",
   "execution_count": 117,
   "metadata": {},
   "outputs": [
    {
     "data": {
      "text/plain": [
       "array([[0.23, 1.  , 0.39, 0.99, 0.96, 1.  , 0.98, 0.49],\n",
       "       [0.26, 0.5 , 0.  , 0.  , 0.64, 0.  , 1.  , 0.39],\n",
       "       [1.  , 1.  , 0.51, 0.09, 1.  , 1.  , 1.  , 0.38],\n",
       "       [0.  , 1.  , 0.61, 0.12, 0.77, 0.94, 0.3 , 1.  ],\n",
       "       [0.95, 0.  , 0.  , 0.45, 0.29, 1.  , 0.83, 0.33],\n",
       "       [1.  , 0.96, 0.55, 0.02, 0.  , 0.  , 0.03, 0.3 ],\n",
       "       [0.14, 0.  , 0.9 , 0.63, 0.49, 0.98, 0.22, 0.67],\n",
       "       [1.  , 0.73, 1.  , 0.5 , 0.  , 0.97, 1.  , 0.61]])"
      ]
     },
     "execution_count": 117,
     "metadata": {},
     "output_type": "execute_result"
    }
   ],
   "source": [
    "def create_board(length = 8, width = 8):   # create the board first\n",
    "    \n",
    "    board = np.zeros((length,width))\n",
    "    for i in range(length):\n",
    "        for j in range(width):\n",
    "            p = rd.uniform(0,1)  # produce the random number\n",
    "            if p<0.2:   #we set 0.2 as a benchmark to distinguish whether this customer like to eat restaruant-A or not\n",
    "                board[i,j] = 0 # If the value smaller than 0.2, we can assign this customer into category of liking restaurant-A. \n",
    "            if p>0.2 and p<0.8:\n",
    "                board[i,j] = round(rd.uniform(0,1),2)                \n",
    "            if p>0.8:   # #we set 0.8 as a benchmark to distinguish whether this customer like to eat restaruant-A or not\n",
    "                board[i,j] = 1 # If the value greater than 0.8,we can assign this customer into category of liking restaurant-B. \n",
    "    return board\n",
    "\n",
    "demo = create_board() # trying first time\n",
    "demo"
   ]
  },
  {
   "cell_type": "code",
   "execution_count": 118,
   "metadata": {},
   "outputs": [
    {
     "data": {
      "text/plain": [
       "<matplotlib.colorbar.Colorbar at 0x1a1a972cd0>"
      ]
     },
     "execution_count": 118,
     "metadata": {},
     "output_type": "execute_result"
    },
    {
     "data": {
      "image/png": "[encoded data removed]",
      "text/plain": [
       "<Figure size 576x576 with 2 Axes>"
      ]
     },
     "metadata": {
      "needs_background": "light"
     },
     "output_type": "display_data"
    }
   ],
   "source": [
    "# visualized this board to easily see this scenario. \n",
    "empty_board = create_board()\n",
    "\n",
    "fig = plt.figure(figsize=(8,8))\n",
    "\n",
    "plt.imshow(empty_board, cmap='Greys')\n",
    "plt.colorbar()"
   ]
  },
  {
   "cell_type": "code",
   "execution_count": 119,
   "metadata": {},
   "outputs": [],
   "source": [
    "def onboard(i,j,a):   # to see wether this cusomter is in this board\n",
    "    if i <= 7 and i >=0:\n",
    "        if j <=7 and j >=0:\n",
    "            return True\n",
    "        else:\n",
    "            return False\n",
    "    else:\n",
    "        return False"
   ]
  },
  {
   "cell_type": "code",
   "execution_count": 120,
   "metadata": {},
   "outputs": [],
   "source": [
    "def getneighbor_value(i,j,board): # get their neighbor value and then we can see how a specific customer has been effected\n",
    "                                # by his friends or neighbors. \n",
    "    neighborhood = [[i-1,j],[i+1,j],[i,j+1],[i,j-1]]\n",
    "    \n",
    "    neighbor_values = []\n",
    "    for neighbor in neighborhood:\n",
    "        if onboard(neighbor[0],neighbor[1],board) == True:   # 0 is i-1, 1 is the j, neighbor is just the i as before\n",
    "            neighbor_values.append(board[neighbor[0],neighbor[1]])\n",
    "    return neighbor_values "
   ]
  },
  {
   "cell_type": "code",
   "execution_count": 121,
   "metadata": {},
   "outputs": [],
   "source": [
    "def plotgrid(myarray):\n",
    "    \n",
    "    # first create two vectors based on the x and y sizes of the grid\n",
    "    x_range = np.linspace(0, myarray.shape[1]-1, myarray.shape[1]) # x means horizontal!\n",
    "    #from 0 to horizontal limits -1, then this is the correct interval in this space, 1 means how many coloumn in here. \n",
    "    \n",
    "    y_range = np.linspace(0, myarray.shape[0]-1, myarray.shape[0]) # y means vertical!\n",
    "    \n",
    "    \n",
    "    \n",
    "    # use the numpy meshgrid function to create two matrices \n",
    "    # of the same size as myarray with x and y indexes\n",
    "    x_indexes, y_indexes = np.meshgrid(x_range, y_range) \n",
    "    \n",
    "    \n",
    "    \n",
    "    \n",
    "    # make a list of all the x and y indexes that are either squares or triangles.\n",
    "    # the notation below is relatively new to us; it means that when myarray==(value),\n",
    "    # only record those values. \n",
    "    tr_x = x_indexes[myarray == 1];   # when myarray equals 1, it will return the index(position) of this cell\n",
    "    tr_y = y_indexes[myarray == 1];\n",
    "    sq_x = x_indexes[myarray == 2]; \n",
    "    sq_y = y_indexes[myarray == 2];\n",
    "    \n",
    "    \n",
    "    \n",
    "    # plot the squares and triangles.  make the size of the polygons \n",
    "    # larger than the default so they're easy to see!\n",
    "    # Note: we have to reverse the y values to make sure it plots with the right orientation\n",
    "    plt.plot(tr_x,  myarray.shape[0] - tr_y - 1, '^g',markersize=20)  \n",
    "    \n",
    "    \n",
    "    # what is the meaning of tr_y - 1\n",
    "    \n",
    "    \n",
    "    plt.plot(sq_x,  myarray.shape[0] - sq_y - 1,markersize=20)\n",
    "    \n",
    "    # Set the x and y limits to include half a space overlap so we don't cut off the shapes\n",
    "    plt.ylim([-0.5,myarray.shape[0] + 0.5]) \n",
    "    \n",
    "    # ylim? \n",
    "    \n",
    "    plt.xlim([-0.5,myarray.shape[1] + 0.5])\n",
    "    \n",
    "    # Turn the axes off\n",
    "    plt.axis('off')"
   ]
  },
  {
   "cell_type": "code",
   "execution_count": 122,
   "metadata": {},
   "outputs": [
    {
     "name": "stdout",
     "output_type": "stream",
     "text": [
      "[[1.   1.   1.   0.6  0.52 0.   0.   0.4 ]\n",
      " [0.   1.   1.   0.   0.   0.11 0.08 0.  ]\n",
      " [0.21 0.4  0.   0.   0.47 0.77 0.6  1.  ]\n",
      " [0.77 0.89 1.   0.   0.   0.   0.   0.  ]\n",
      " [0.   0.   0.55 1.   1.   0.52 0.85 1.  ]\n",
      " [0.   0.   0.52 0.73 0.02 1.   0.97 0.67]\n",
      " [1.   0.83 0.   0.14 0.16 0.91 0.   0.17]\n",
      " [0.26 1.   0.53 0.22 0.3  0.7  0.84 0.63]]\n"
     ]
    }
   ],
   "source": [
    "#One day iteration to see what is the final revenue for each restaurant. \n",
    "a = create_board()\n",
    "print(a)\n",
    "discounts_A = 0.9 # 10% people more will eat to Restaurant-A\n",
    "\n"
   ]
  },
  {
   "cell_type": "code",
   "execution_count": 123,
   "metadata": {},
   "outputs": [
    {
     "data": {
      "image/png": "[encoded data removed]",
      "text/plain": [
       "<Figure size 576x576 with 1 Axes>"
      ]
     },
     "metadata": {},
     "output_type": "display_data"
    },
    {
     "data": {
      "text/plain": [
       "<Figure size 576x576 with 0 Axes>"
      ]
     },
     "metadata": {},
     "output_type": "display_data"
    },
    {
     "data": {
      "text/plain": [
       "<Figure size 576x576 with 0 Axes>"
      ]
     },
     "metadata": {},
     "output_type": "display_data"
    },
    {
     "data": {
      "text/plain": [
       "<Figure size 576x576 with 0 Axes>"
      ]
     },
     "metadata": {},
     "output_type": "display_data"
    },
    {
     "data": {
      "text/plain": [
       "<Figure size 576x576 with 0 Axes>"
      ]
     },
     "metadata": {},
     "output_type": "display_data"
    },
    {
     "data": {
      "text/plain": [
       "<Figure size 576x576 with 0 Axes>"
      ]
     },
     "metadata": {},
     "output_type": "display_data"
    },
    {
     "data": {
      "text/plain": [
       "<Figure size 576x576 with 0 Axes>"
      ]
     },
     "metadata": {},
     "output_type": "display_data"
    },
    {
     "data": {
      "text/plain": [
       "<Figure size 576x576 with 0 Axes>"
      ]
     },
     "metadata": {},
     "output_type": "display_data"
    },
    {
     "data": {
      "text/plain": [
       "<Figure size 576x576 with 0 Axes>"
      ]
     },
     "metadata": {},
     "output_type": "display_data"
    },
    {
     "data": {
      "text/plain": [
       "<Figure size 576x576 with 0 Axes>"
      ]
     },
     "metadata": {},
     "output_type": "display_data"
    },
    {
     "data": {
      "text/plain": [
       "<Figure size 576x576 with 0 Axes>"
      ]
     },
     "metadata": {},
     "output_type": "display_data"
    },
    {
     "data": {
      "text/plain": [
       "<Figure size 576x576 with 0 Axes>"
      ]
     },
     "metadata": {},
     "output_type": "display_data"
    },
    {
     "data": {
      "text/plain": [
       "<Figure size 576x576 with 0 Axes>"
      ]
     },
     "metadata": {},
     "output_type": "display_data"
    },
    {
     "data": {
      "text/plain": [
       "<Figure size 576x576 with 0 Axes>"
      ]
     },
     "metadata": {},
     "output_type": "display_data"
    },
    {
     "data": {
      "text/plain": [
       "<Figure size 576x576 with 0 Axes>"
      ]
     },
     "metadata": {},
     "output_type": "display_data"
    },
    {
     "data": {
      "text/plain": [
       "<Figure size 576x576 with 0 Axes>"
      ]
     },
     "metadata": {},
     "output_type": "display_data"
    },
    {
     "data": {
      "text/plain": [
       "<Figure size 576x576 with 0 Axes>"
      ]
     },
     "metadata": {},
     "output_type": "display_data"
    },
    {
     "data": {
      "text/plain": [
       "<Figure size 576x576 with 0 Axes>"
      ]
     },
     "metadata": {},
     "output_type": "display_data"
    },
    {
     "data": {
      "text/plain": [
       "<Figure size 576x576 with 0 Axes>"
      ]
     },
     "metadata": {},
     "output_type": "display_data"
    },
    {
     "data": {
      "text/plain": [
       "<Figure size 576x576 with 0 Axes>"
      ]
     },
     "metadata": {},
     "output_type": "display_data"
    }
   ],
   "source": [
    "# Simulation\n",
    "\n",
    "revenue = 0\n",
    "for i in range(20):  # The period of dynamic changing is 20 days.\n",
    "    \n",
    "    if i == 5:  # On day05, More people willing to eat in Restaurant-A\n",
    "        a = a*0.9\n",
    "    if i == 10:  # On day 10, More people willing to eat in Restaurant-B, we just assumed the change happened in this day,\n",
    "        a = a*1.1  # when a is getting bigger, more people are willing to eat in Restaurant. \n",
    "        \n",
    "    a[a>1] =1  \n",
    "    x = np.random.randint(0,8,size = 5)\n",
    "    y = np.random.randint(0,8,size = 5)\n",
    "    s = np.array(getneighbor_value(x[r],y[r],a)).sum() # following the rule 1, picking the person's neighbors\n",
    "                                                        #average these values to see wether this average greater than two or not \n",
    "    for r in range(5):\n",
    "        #s = list(s)\n",
    "        if s*4/s.size>2:  # if this average greater than two, we assume this people will change his/her preference \n",
    "                            #under the impacts of his friends \n",
    "            a[x[r],y[r]] = 1\n",
    "        else:\n",
    "            a[x[r],y[r]] = 0 # otherwise, the people willing to eat in Restaurant-A\n",
    "    expectation = a.sum()*40\n",
    "    revenue += expectation   # calculate the revenue for each restaurant. \n",
    "    \n",
    "    fig = plt.figure(figsize=(8,8))\n",
    "\n",
    "    plt.imshow(a, cmap='Greys')\n",
    "        \n",
    "    #fig = plt.figure(figsize=(8,8))\n",
    "    \n",
    "    \n",
    "    # Animation part \n",
    "    time.sleep(0.5)         # Sleep for half a second to slow down the animation\n",
    "    clear_output(wait=True) # Clear output for dynamic display\n",
    "    display(fig)            # Reset display\n",
    "    fig.clear()             # Prevent overlapping and layered plots\n",
    "    \n",
    "plt.close()                 # Close dynamic display"
   ]
  },
  {
   "cell_type": "markdown",
   "metadata": {},
   "source": [
    "## Results"
   ]
  },
  {
   "cell_type": "code",
   "execution_count": 124,
   "metadata": {},
   "outputs": [
    {
     "name": "stdout",
     "output_type": "stream",
     "text": [
      "[[1.     1.     1.     0.99   1.     0.99   1.     1.    ]\n",
      " [0.     1.     1.     1.     1.     1.     0.99   0.    ]\n",
      " [0.2079 1.     1.     1.     0.99   1.     1.     1.    ]\n",
      " [1.     0.99   1.     1.     0.     1.     1.     1.    ]\n",
      " [1.     0.99   1.     1.     0.99   0.99   0.8415 1.    ]\n",
      " [1.     1.     1.     1.     0.0198 1.     1.     0.6633]\n",
      " [1.     1.     1.     0.1386 1.     1.     1.     0.1683]\n",
      " [0.2574 1.     1.     1.     1.     1.     1.     0.6237]]\n"
     ]
    }
   ],
   "source": [
    "# The interpretation will be showed in Slides about this plot.\n",
    "print(a)"
   ]
  },
  {
   "cell_type": "code",
   "execution_count": 149,
   "metadata": {},
   "outputs": [
    {
     "name": "stdout",
     "output_type": "stream",
     "text": [
      "53.7615\n",
      "0.3267000000000001\n",
      "1.7523000000000004\n"
     ]
    },
    {
     "data": {
      "image/png": "[encoded data removed]",
      "text/plain": [
       "<Figure size 432x288 with 1 Axes>"
      ]
     },
     "metadata": {
      "needs_background": "light"
     },
     "output_type": "display_data"
    }
   ],
   "source": [
    "#analysis and plot\n",
    "R_A = 0 \n",
    "R_B = 0\n",
    "middle = 0 \n",
    "for i in range(a.shape[0]):\n",
    "    for j in range(a.shape[1]):\n",
    "        if a[i,j] > 0.8:\n",
    "            R_A += a[i,j]\n",
    "        elif a[i,j] < 0.2:\n",
    "            R_B += a[i,j]\n",
    "        else:\n",
    "            middle += a[i,j]          \n",
    "print(R_A)\n",
    "print(R_B)\n",
    "print(middle)\n",
    "\n",
    "labels = 'Resturant_A', 'Resturant_B','No_preference'\n",
    "\n",
    "\n",
    "sizes = [R_A, R_B, middle]\n",
    "explode = (1, 1, 1) \n",
    "fig1, ax1 = plt.subplots()\n",
    "\n",
    "font1 = {'family' : 'cursive','stretch': 'ultra-condensed', 'weight' : 'normal','size'   : 20,'color':\"limegreen\"}\n",
    "\n",
    "plt.pie(sizes, explode=explode, labels=labels,autopct='%1.1f%%',shadow=True, startangle=90,radius = 1800.0,frame=True)\n",
    "\n",
    "plt.axis('equal')\n",
    "\n",
    "plt.legend(\n",
    "    loc='upper left',\n",
    "    labels=['Resturant_A', 'Resturant_B','No_preference'])\n",
    "\n",
    "plt.show()"
   ]
  },
  {
   "cell_type": "markdown",
   "metadata": {},
   "source": [
    "Based on this results, I found that there are 96.3% of people are wiling to eat in Restaurant A and there are only 1% of people are willing to eat in Restaurant B. There still 3% people did not change their preference after adding thes e two rules.\n",
    "\n",
    "**Notes: The result may changed based on different run, becasue the number are randomly produced in the begining.**"
   ]
  },
  {
   "cell_type": "markdown",
   "metadata": {},
   "source": [
    "## Discussion and Conclusion"
   ]
  },
  {
   "cell_type": "markdown",
   "metadata": {},
   "source": [
    "Based on my model, I found that small changes in random number in the begining stage could lead a huge difference, especially in adding these two rules. I observed there are 4 more blacks area in the first plot, however, after runing 20 times, and the results has changed a lot. We can find the the category of Restaurant_A weighted almost 24 more times than other two together in final result. Therefore, I think this two rules may enlarge the initial gap in this scenario. It is make sense that if there are more people initial like to eat in a restaurant may based on some random facts such as location, and then the suitable marketing strategy and the effects of social need or the impacts of friends will lead more people to eat in this restaurants. \n",
    "\n",
    "In the next time, I will add more variables in this model such as location, types of foods and size of restaurant. And I plan to insert the game theory into this model to see what is the best strategy for restaurants. By adding more varibales and escale my model, it will be more realistic. "
   ]
  },
  {
   "cell_type": "markdown",
   "metadata": {},
   "source": [
    "### References"
   ]
  },
  {
   "cell_type": "markdown",
   "metadata": {},
   "source": [
    "I used two functions from my Day-12_Pre-Class_ABMForestFire-STUDENT.ipynb. There functions are plotgrid, getneighbor_value. "
   ]
  }
 ],
 "metadata": {
  "kernelspec": {
   "display_name": "Python 3",
   "language": "python",
   "name": "python3"
  },
  "language_info": {
   "codemirror_mode": {
    "name": "ipython",
    "version": 3
   },
   "file_extension": ".py",
   "mimetype": "text/x-python",
   "name": "python",
   "nbconvert_exporter": "python",
   "pygments_lexer": "ipython3",
   "version": "3.7.4"
  }
 },
 "nbformat": 4,
 "nbformat_minor": 2
}
