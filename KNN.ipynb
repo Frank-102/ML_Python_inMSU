{
 "cells": [
  {
   "cell_type": "markdown",
   "metadata": {},
   "source": [
    "### <p style=\"text-align: right;\"> &#9989; Put your name here.</p>"
   ]
  },
  {
   "cell_type": "markdown",
   "metadata": {},
   "source": [
    "# CMSE Homework 05\n",
    "\n",
    "\n",
    "### Assignment instructions\n",
    "\n",
    "Work through the following assignment, making sure to follow all of the directions and answer all of the questions.\n",
    "\n",
    "There are 25 points possible on this assignment. Point values for each part are included in the section headers.\n",
    "\n",
    "This assignment is due roughly two weeks from now at 11:59 pm on **Friday March 27**. It should be uploaded into the \"Homework Assignments\" submission folder for Homework #5 in your D2L webpage. Submission instructions can be found at the end of the notebook.\n",
    "\n",
    "**Hint**: It is possible you are asked to do something you are not familiar with. That's why you have internet access. Do some smart searches and see what you can find! "
   ]
  },
  {
   "cell_type": "markdown",
   "metadata": {},
   "source": [
    "## Part 1: Setting up a repository for tracking changes (3 points)\n",
    "\n",
    "For this assignment, you're going to add it to the cmse202-s20-turnin repository you created in class so that you can track your progress on the assignment and preserve the final version that you turn in. In order to do this you need to:\n",
    "\n",
    "* Navigate to your `cmse202-s20-turnin` repository and create a new directory called `hw-05`.\n",
    "* Move this notebook into that new directory in your repository, then add it and commit it to your repository.\n",
    " * Finally, to test that everything is working, \"git push\" the file so that it ends up in your GitHub repository.\n",
    "\n",
    "Important: Make sure you've added your PTA as a collaborators\\ to your \"turnin\" respository with \"Read\" access so that we can see your assignment.\n",
    "\n",
    "* Section 001: nchamusah14\n",
    "* Section 002: nchamusah14\n",
    "* Section 003: genster6\n",
    "\n",
    "Also important: Make sure that the version of this notebook that you are working on is the same one that you just added to your repository! If you are working on a different copy of the noteobok, none of your changes will be tracked.\n",
    "\n",
    "If everything went as intended, the file should now show up on your GitHub account in the `cmse202-s20-turnin` repository under the `hw-05` directory that you just created. Periodically, you'll be asked to commit your changes to the repository and push them to the remote GitHub location. Of course, you can always commit your changes more often than that, if you wish. It can be good to get into a habit of committing your changes any time you make a significant modification, or when you stop working on the project for a bit."
   ]
  },
  {
   "cell_type": "markdown",
   "metadata": {},
   "source": [
    "## Part 2: Load and Plot the Data (7 points)\n",
    "\n",
    "In this homework we will be woking with the wine dataset and building a k-nearest neighbors classifier class. The first step is to load the data and plot the labels."
   ]
  },
  {
   "cell_type": "markdown",
   "metadata": {},
   "source": [
    "**Question 2.1 (2 points)** Load the *wine_data.csv* as a pandas dataframe and select the follwing three cloumns; Class label, Alcohol, Malic acid "
   ]
  },
  {
   "cell_type": "code",
   "execution_count": 246,
   "metadata": {},
   "outputs": [
    {
     "data": {
      "text/html": [
       "<div>\n",
       "<style scoped>\n",
       "    .dataframe tbody tr th:only-of-type {\n",
       "        vertical-align: middle;\n",
       "    }\n",
       "\n",
       "    .dataframe tbody tr th {\n",
       "        vertical-align: top;\n",
       "    }\n",
       "\n",
       "    .dataframe thead th {\n",
       "        text-align: right;\n",
       "    }\n",
       "</style>\n",
       "<table border=\"1\" class=\"dataframe\">\n",
       "  <thead>\n",
       "    <tr style=\"text-align: right;\">\n",
       "      <th></th>\n",
       "      <th>Class label</th>\n",
       "      <th>Alcohol</th>\n",
       "      <th>Malic acid</th>\n",
       "    </tr>\n",
       "  </thead>\n",
       "  <tbody>\n",
       "    <tr>\n",
       "      <td>0</td>\n",
       "      <td>1</td>\n",
       "      <td>14.23</td>\n",
       "      <td>1.71</td>\n",
       "    </tr>\n",
       "    <tr>\n",
       "      <td>1</td>\n",
       "      <td>1</td>\n",
       "      <td>13.20</td>\n",
       "      <td>1.78</td>\n",
       "    </tr>\n",
       "    <tr>\n",
       "      <td>2</td>\n",
       "      <td>1</td>\n",
       "      <td>13.16</td>\n",
       "      <td>2.36</td>\n",
       "    </tr>\n",
       "    <tr>\n",
       "      <td>3</td>\n",
       "      <td>1</td>\n",
       "      <td>14.37</td>\n",
       "      <td>1.95</td>\n",
       "    </tr>\n",
       "    <tr>\n",
       "      <td>4</td>\n",
       "      <td>1</td>\n",
       "      <td>13.24</td>\n",
       "      <td>2.59</td>\n",
       "    </tr>\n",
       "    <tr>\n",
       "      <td>...</td>\n",
       "      <td>...</td>\n",
       "      <td>...</td>\n",
       "      <td>...</td>\n",
       "    </tr>\n",
       "    <tr>\n",
       "      <td>173</td>\n",
       "      <td>3</td>\n",
       "      <td>13.71</td>\n",
       "      <td>5.65</td>\n",
       "    </tr>\n",
       "    <tr>\n",
       "      <td>174</td>\n",
       "      <td>3</td>\n",
       "      <td>13.40</td>\n",
       "      <td>3.91</td>\n",
       "    </tr>\n",
       "    <tr>\n",
       "      <td>175</td>\n",
       "      <td>3</td>\n",
       "      <td>13.27</td>\n",
       "      <td>4.28</td>\n",
       "    </tr>\n",
       "    <tr>\n",
       "      <td>176</td>\n",
       "      <td>3</td>\n",
       "      <td>13.17</td>\n",
       "      <td>2.59</td>\n",
       "    </tr>\n",
       "    <tr>\n",
       "      <td>177</td>\n",
       "      <td>3</td>\n",
       "      <td>14.13</td>\n",
       "      <td>4.10</td>\n",
       "    </tr>\n",
       "  </tbody>\n",
       "</table>\n",
       "<p>178 rows × 3 columns</p>\n",
       "</div>"
      ],
      "text/plain": [
       "     Class label  Alcohol  Malic acid\n",
       "0              1    14.23        1.71\n",
       "1              1    13.20        1.78\n",
       "2              1    13.16        2.36\n",
       "3              1    14.37        1.95\n",
       "4              1    13.24        2.59\n",
       "..           ...      ...         ...\n",
       "173            3    13.71        5.65\n",
       "174            3    13.40        3.91\n",
       "175            3    13.27        4.28\n",
       "176            3    13.17        2.59\n",
       "177            3    14.13        4.10\n",
       "\n",
       "[178 rows x 3 columns]"
      ]
     },
     "execution_count": 246,
     "metadata": {},
     "output_type": "execute_result"
    }
   ],
   "source": [
    "### Put your code here ###\n",
    "import numpy as np\n",
    "import matplotlib.pyplot as plt\n",
    "import pandas as pd\n",
    "import seaborn as sns\n",
    "\n",
    "data = pd.read_csv('wine_data.csv')\n",
    "Class_label = data['Class label']\n",
    "Alcohol = data['Alcohol']\n",
    "Malic_acid = data['Malic acid']\n",
    "select = data[['Class label','Alcohol','Malic acid']]\n",
    "select"
   ]
  },
  {
   "cell_type": "markdown",
   "metadata": {},
   "source": [
    "**Question 2.2 (2 points)** Find the number of unqiue entries in the Class label column"
   ]
  },
  {
   "cell_type": "code",
   "execution_count": 247,
   "metadata": {},
   "outputs": [
    {
     "name": "stdout",
     "output_type": "stream",
     "text": [
      "[1 2 3]\n",
      "number of unique class: 3\n"
     ]
    }
   ],
   "source": [
    "### Put your code here ###\n",
    "unq_class = data['Class label'].unique()\n",
    "print(unq_class)\n",
    "print('number of unique class:',len(unq_class))"
   ]
  },
  {
   "cell_type": "markdown",
   "metadata": {},
   "source": [
    "**Question 2.3 (3 points)** Make a scatter plot including every sample in the dataset with: the Alcohol feature on the x-axis, the Malic acid feature on the y-axis, and different colors for each class label"
   ]
  },
  {
   "cell_type": "code",
   "execution_count": 248,
   "metadata": {},
   "outputs": [
    {
     "data": {
      "text/plain": [
       "Text(0, 0.5, 'Malic acid')"
      ]
     },
     "execution_count": 248,
     "metadata": {},
     "output_type": "execute_result"
    },
    {
     "data": {
      "image/png": "[encoded data removed]",
      "text/plain": [
       "<Figure size 432x288 with 1 Axes>"
      ]
     },
     "metadata": {
      "needs_background": "light"
     },
     "output_type": "display_data"
    }
   ],
   "source": [
    "### Put your code here ###\n",
    "\n",
    "scatter = plt.scatter(data['Alcohol'],data['Malic acid'],c = data['Class label'])\n",
    "plt.legend(handles=scatter.legend_elements()[0], labels = ['class1','class2','class3'])\n",
    "plt.xlabel('Alcohol')\n",
    "plt.ylabel('Malic acid')"
   ]
  },
  {
   "cell_type": "markdown",
   "metadata": {},
   "source": [
    "# k-Nearest Neighbors\n",
    "\n",
    "In the next part we will be building a class that will use the k-nearest neighbors algorithm (kNN) to make predictions on the wine data. kNN makes a prediction for a test sample by first finding the top-k \"closest\" samples in the training set. The predcition is then given by finding the class label that is the most popular among the top-k samples. For more information see:\n",
    "\n",
    "1. https://scikit-learn.org/stable/modules/neighbors.html#nearest-neighbors\n",
    "2. https://scikit-learn.org/stable/modules/generated/sklearn.neighbors.KNeighborsClassifier.html\n"
   ]
  },
  {
   "cell_type": "markdown",
   "metadata": {},
   "source": [
    "## Part 3: Prepare data and make predictions (12 points)"
   ]
  },
  {
   "cell_type": "markdown",
   "metadata": {},
   "source": [
    "**Question 3.1 (2 points)** Apply the \"train_test_split\" function in the *sklearn* package to split the data in 70% for training and 30% for testing. Class label will be the target variable. Alcohol and Malic acid will be the features. Using common variable names like X_train, y_train, X_test and y_test might help later."
   ]
  },
  {
   "cell_type": "code",
   "execution_count": 249,
   "metadata": {},
   "outputs": [
    {
     "name": "stdout",
     "output_type": "stream",
     "text": [
      "     Alcohol  Malic acid\n",
      "69     12.21        1.19\n",
      "22     13.71        1.86\n",
      "93     12.29        2.83\n",
      "11     14.12        1.48\n",
      "138    13.49        3.59\n",
      "..       ...         ...\n",
      "72     13.49        1.66\n",
      "71     13.86        1.51\n",
      "170    12.20        3.03\n",
      "132    12.81        2.31\n",
      "102    12.34        2.45\n",
      "\n",
      "[124 rows x 2 columns]      Alcohol  Malic acid\n",
      "117    12.42        1.61\n",
      "144    12.25        3.88\n",
      "112    11.76        2.68\n",
      "68     13.34        0.94\n",
      "116    11.82        1.47\n",
      "107    12.72        1.75\n",
      "48     14.10        2.02\n",
      "133    12.70        3.55\n",
      "154    12.58        1.29\n",
      "39     14.22        3.99\n",
      "128    12.37        1.63\n",
      "17     13.83        1.57\n",
      "57     13.29        1.97\n",
      "153    13.23        3.30\n",
      "40     13.56        1.71\n",
      "84     11.84        0.89\n",
      "146    13.88        5.04\n",
      "149    13.08        3.90\n",
      "61     12.64        1.36\n",
      "31     13.58        1.66\n",
      "64     12.17        1.45\n",
      "19     13.64        3.10\n",
      "73     12.99        1.67\n",
      "108    12.22        1.29\n",
      "50     13.05        1.73\n",
      "113    11.41        0.74\n",
      "41     13.41        3.84\n",
      "58     13.72        1.43\n",
      "123    13.05        5.80\n",
      "160    12.36        3.83\n",
      "103    11.82        1.72\n",
      "115    11.03        1.51\n",
      "6      14.39        1.87\n",
      "114    12.08        1.39\n",
      "97     12.29        1.41\n",
      "49     13.94        1.73\n",
      "29     14.02        1.68\n",
      "130    12.86        1.35\n",
      "120    11.45        2.40\n",
      "83     13.05        3.86\n",
      "35     13.48        1.81\n",
      "54     13.74        1.67\n",
      "155    13.17        5.19\n",
      "105    12.42        2.55\n",
      "24     13.50        1.81\n",
      "25     13.05        2.05\n",
      "53     13.77        1.90\n",
      "172    14.16        2.51\n",
      "140    12.93        2.81\n",
      "87     11.65        1.67\n",
      "62     13.67        1.25\n",
      "26     13.39        1.77\n",
      "34     13.51        1.80\n",
      "5      14.20        1.76 69     2\n",
      "22     1\n",
      "93     2\n",
      "11     1\n",
      "138    3\n",
      "      ..\n",
      "72     2\n",
      "71     2\n",
      "170    3\n",
      "132    3\n",
      "102    2\n",
      "Name: Class label, Length: 124, dtype: int64 117    2\n",
      "144    3\n",
      "112    2\n",
      "68     2\n",
      "116    2\n",
      "107    2\n",
      "48     1\n",
      "133    3\n",
      "154    3\n",
      "39     1\n",
      "128    2\n",
      "17     1\n",
      "57     1\n",
      "153    3\n",
      "40     1\n",
      "84     2\n",
      "146    3\n",
      "149    3\n",
      "61     2\n",
      "31     1\n",
      "64     2\n",
      "19     1\n",
      "73     2\n",
      "108    2\n",
      "50     1\n",
      "113    2\n",
      "41     1\n",
      "58     1\n",
      "123    2\n",
      "160    3\n",
      "103    2\n",
      "115    2\n",
      "6      1\n",
      "114    2\n",
      "97     2\n",
      "49     1\n",
      "29     1\n",
      "130    3\n",
      "120    2\n",
      "83     2\n",
      "35     1\n",
      "54     1\n",
      "155    3\n",
      "105    2\n",
      "24     1\n",
      "25     1\n",
      "53     1\n",
      "172    3\n",
      "140    3\n",
      "87     2\n",
      "62     2\n",
      "26     1\n",
      "34     1\n",
      "5      1\n",
      "Name: Class label, dtype: int64\n"
     ]
    }
   ],
   "source": [
    "### Put your code here ###\n",
    "from sklearn.model_selection import train_test_split\n",
    "ftr = data[['Alcohol','Malic acid']]\n",
    "lbl =  data['Class label']\n",
    "x_train, x_test, y_train, y_test = train_test_split(ftr, lbl, test_size=0.3)\n",
    "X_train = x_train\n",
    "X_test = x_test\n",
    "print(X_train, X_test, y_train, y_test)\n",
    "#print(X_test)"
   ]
  },
  {
   "cell_type": "markdown",
   "metadata": {},
   "source": [
    "**Question 3.2 (2 points)** We are now going to build a Class that will act as a k-nearest neighbor classifer. First, make a class called kNN and have the \\__init__ method take a single argument, k, the number of samples in the training set to use for prediction. Once this is done, instantiate a class with k = 5."
   ]
  },
  {
   "cell_type": "code",
   "execution_count": 250,
   "metadata": {},
   "outputs": [
    {
     "name": "stdout",
     "output_type": "stream",
     "text": [
      "<__main__.kNN object at 0x000001C2B5817C48>\n",
      "5\n"
     ]
    }
   ],
   "source": [
    "### Put your code here ###\n",
    "class kNN():\n",
    "    def __init__(self,k):\n",
    "        self.k = k\n",
    "knn = kNN(5)\n",
    "print(knn)\n",
    "print(knn.k)"
   ]
  },
  {
   "cell_type": "markdown",
   "metadata": {},
   "source": [
    "**Question 3.3 (2 points)** Next, we need to load some training data into the classifer. Do this by writing a new method in the kNN class called get_train_data. The method will take two arguments, the first is the training data containing the features and the other is the traning data that contains the class labels. Instantiate the class with the relavent data arrays from Question 3.1."
   ]
  },
  {
   "cell_type": "code",
   "execution_count": 251,
   "metadata": {},
   "outputs": [
    {
     "name": "stdout",
     "output_type": "stream",
     "text": [
      "(     Alcohol  Malic acid\n",
      "69     12.21        1.19\n",
      "22     13.71        1.86\n",
      "93     12.29        2.83\n",
      "11     14.12        1.48\n",
      "138    13.49        3.59\n",
      "..       ...         ...\n",
      "72     13.49        1.66\n",
      "71     13.86        1.51\n",
      "170    12.20        3.03\n",
      "132    12.81        2.31\n",
      "102    12.34        2.45\n",
      "\n",
      "[124 rows x 2 columns], 69     2\n",
      "22     1\n",
      "93     2\n",
      "11     1\n",
      "138    3\n",
      "      ..\n",
      "72     2\n",
      "71     2\n",
      "170    3\n",
      "132    3\n",
      "102    2\n",
      "Name: Class label, Length: 124, dtype: int64)\n"
     ]
    },
    {
     "data": {
      "text/html": [
       "<div>\n",
       "<style scoped>\n",
       "    .dataframe tbody tr th:only-of-type {\n",
       "        vertical-align: middle;\n",
       "    }\n",
       "\n",
       "    .dataframe tbody tr th {\n",
       "        vertical-align: top;\n",
       "    }\n",
       "\n",
       "    .dataframe thead th {\n",
       "        text-align: right;\n",
       "    }\n",
       "</style>\n",
       "<table border=\"1\" class=\"dataframe\">\n",
       "  <thead>\n",
       "    <tr style=\"text-align: right;\">\n",
       "      <th></th>\n",
       "      <th>Alcohol</th>\n",
       "      <th>Malic acid</th>\n",
       "    </tr>\n",
       "  </thead>\n",
       "  <tbody>\n",
       "    <tr>\n",
       "      <td>69</td>\n",
       "      <td>12.21</td>\n",
       "      <td>1.19</td>\n",
       "    </tr>\n",
       "    <tr>\n",
       "      <td>22</td>\n",
       "      <td>13.71</td>\n",
       "      <td>1.86</td>\n",
       "    </tr>\n",
       "    <tr>\n",
       "      <td>93</td>\n",
       "      <td>12.29</td>\n",
       "      <td>2.83</td>\n",
       "    </tr>\n",
       "    <tr>\n",
       "      <td>11</td>\n",
       "      <td>14.12</td>\n",
       "      <td>1.48</td>\n",
       "    </tr>\n",
       "    <tr>\n",
       "      <td>138</td>\n",
       "      <td>13.49</td>\n",
       "      <td>3.59</td>\n",
       "    </tr>\n",
       "    <tr>\n",
       "      <td>...</td>\n",
       "      <td>...</td>\n",
       "      <td>...</td>\n",
       "    </tr>\n",
       "    <tr>\n",
       "      <td>72</td>\n",
       "      <td>13.49</td>\n",
       "      <td>1.66</td>\n",
       "    </tr>\n",
       "    <tr>\n",
       "      <td>71</td>\n",
       "      <td>13.86</td>\n",
       "      <td>1.51</td>\n",
       "    </tr>\n",
       "    <tr>\n",
       "      <td>170</td>\n",
       "      <td>12.20</td>\n",
       "      <td>3.03</td>\n",
       "    </tr>\n",
       "    <tr>\n",
       "      <td>132</td>\n",
       "      <td>12.81</td>\n",
       "      <td>2.31</td>\n",
       "    </tr>\n",
       "    <tr>\n",
       "      <td>102</td>\n",
       "      <td>12.34</td>\n",
       "      <td>2.45</td>\n",
       "    </tr>\n",
       "  </tbody>\n",
       "</table>\n",
       "<p>124 rows × 2 columns</p>\n",
       "</div>"
      ],
      "text/plain": [
       "     Alcohol  Malic acid\n",
       "69     12.21        1.19\n",
       "22     13.71        1.86\n",
       "93     12.29        2.83\n",
       "11     14.12        1.48\n",
       "138    13.49        3.59\n",
       "..       ...         ...\n",
       "72     13.49        1.66\n",
       "71     13.86        1.51\n",
       "170    12.20        3.03\n",
       "132    12.81        2.31\n",
       "102    12.34        2.45\n",
       "\n",
       "[124 rows x 2 columns]"
      ]
     },
     "execution_count": 251,
     "metadata": {},
     "output_type": "execute_result"
    }
   ],
   "source": [
    "### Put your code here ###\n",
    "class kNN():\n",
    "    def __init__(self,k):\n",
    "        self.k = k\n",
    "    def get_train_data(self,x_train, y_train):\n",
    "        k = self.k\n",
    "        self.xt = x_train\n",
    "        self.yt = y_train\n",
    "        return self.xt,self.yt\n",
    "    \n",
    "knn = kNN(5)\n",
    "print(knn.get_train_data(x_train, y_train))\n",
    "x_train"
   ]
  },
  {
   "cell_type": "markdown",
   "metadata": {},
   "source": [
    "**Question 3.4 (4 points)** Now we are going to add a method called _predict_ that takes one input, the test data for the feautres (X_test) and will return a list/array of the class label predicted for each test sample. The top k-neighbors will be selected based on the euclidean distance. One way of thinking of how to break this down into smaller steps is: \n",
    "\n",
    "1. For a single test sample, find the euclidean distance to all of the training samples (can use a for loop). For this feel free to use the \"euclidean\" function from the _scipy.spatial.distance_ package.\n",
    "2. Find which traning samples are the top-k closest to the test sample, and then find the class labels for those top-k samples. Then find out which class label occurs the most (if two or more classes occur equally as the most than randomaly pick one). Hint using the function \"np.argsort\" might be useful to map the sorting of the distances to the class labels.\n",
    "3. Once this works, put this inside another loop that goes through and does this for all the samples in the test set.\n",
    "\n",
    "Note for this question and the next, you can use \"KNeighborsClassifier\" from _sklearn.neighbors_ to see if your answer agrees, but you need to write your own class methods to recieve credit. The default parameters of \"KNeighborsClassifier\" are the euclidean distance (i.e.  p=2, metric='minkowski' is the same as the euclidean distance). Also the \"fit\" method in the sklearn version does the same thing as the \"get_train_data\" method in the kNN class.\n"
   ]
  },
  {
   "cell_type": "code",
   "execution_count": 252,
   "metadata": {},
   "outputs": [
    {
     "name": "stdout",
     "output_type": "stream",
     "text": [
      "[170, 157, 99, 102, 77, 111, 135, 151, 139, 131, 171, 119, 125, 162, 132, 167, 118, 100, 96, 127, 176, 163, 4, 2, 88, 90, 121, 94, 106, 141, 81, 148, 79, 104, 75, 145, 21, 70, 86, 110, 152, 150, 142, 44, 126, 168, 95, 91, 23, 92, 1, 37, 138, 166, 161, 129, 164, 43, 27, 89, 101, 124, 38, 36, 174, 134, 122, 65, 109, 69, 159, 67, 72, 55, 15, 63, 32, 82, 22, 60, 175, 98, 74, 12, 28, 78, 42, 147, 52, 85, 136, 59, 7, 10, 80, 51, 30, 33, 47, 66, 156, 71, 76, 169, 165, 20, 9, 16, 46, 177, 56, 0, 3, 18, 45, 11, 14, 158, 143, 137, 13, 8, 173]\n",
      "123\n",
      "     Alcohol  Malic acid\n",
      "69     12.21        1.19\n",
      "22     13.71        1.86\n",
      "93     12.29        2.83\n",
      "11     14.12        1.48\n",
      "138    13.49        3.59\n",
      "..       ...         ...\n",
      "72     13.49        1.66\n",
      "71     13.86        1.51\n",
      "170    12.20        3.03\n",
      "132    12.81        2.31\n",
      "102    12.34        2.45\n",
      "\n",
      "[124 rows x 2 columns]\n"
     ]
    }
   ],
   "source": [
    "import sklearn.neighbors as skn\n",
    "\n",
    "def distance(p1,p2):\n",
    "    return np.sqrt((p1[0] - p2[0])**2 + (p1[1] - p2[1])**2)\n",
    "\n",
    "def kNN_list(x,x_train):\n",
    "    dlst = []\n",
    "    #d = 100000000000\n",
    "    x = x.to_numpy()  \n",
    "    for index, row in x_train.iterrows():\n",
    "        #print(index)\n",
    "        row = row.to_numpy()\n",
    "        #print(row)\n",
    "        if row[0] != x[0] or row[1] != x[1]:\n",
    "            d = distance([row[0],row[1]],x)\n",
    "            #￥print(d)\n",
    "            dlst.append([d,index])\n",
    "            #new_train.append([row[0],row[1]])\n",
    "    #print(dlst)\n",
    "    dlst = dlst\n",
    "    idxlst = sorted(dlst, key=lambda a_entry: a_entry[0]) \n",
    "    finallst = [i[1] for i in idxlst]\n",
    "    return finallst\n",
    "\n",
    "#print(x_train.iloc[39])\n",
    "print(kNN_list(x_train.iloc[2],x_train))\n",
    "print(len(kNN_list(x_train.iloc[1],x_train)))\n",
    "print(x_train)"
   ]
  },
  {
   "cell_type": "code",
   "execution_count": 253,
   "metadata": {},
   "outputs": [
    {
     "name": "stdout",
     "output_type": "stream",
     "text": [
      "[2.0, 2.0, 2.0, 2.0, 2.0, 2.0, 1.0, 3.0, 2.0, 3.0, 2.0, 1.0, 1.0, 3.0, 1.0, 2.0, 3.0, 1.0, 2.0, 1.0, 2.0, 3.0, 1.0, 2.0, 1.0, 2.0, 3.0, 1.0, 3.0, 2.0, 2.0, 2.0, 1.0, 2.0, 2.0, 1.0, 1.0, 1.0, 2.0, 1.0, 1.0, 1.0, 3.0, 2.0, 1.0, 1.0, 1.0, 1.0, 3.0, 2.0, 1.0, 1.0, 1.0, 1.0]\n"
     ]
    }
   ],
   "source": [
    "### Put your code here ###\n",
    "from scipy import stats\n",
    "'''\n",
    "def distance(p1,p2):\n",
    "    return np.sqrt((p1[0] - p2[0])**2 + (p1[1] - p2[1])**2)\n",
    "                 \n",
    "def kNN_list(x,x_train):\n",
    "    dlst = []\n",
    "    #d = 100000000000\n",
    "    x = x.to_numpy()    \n",
    "    for index, row in x_train.iterrows():\n",
    "        row = row.to_numpy()\n",
    "        #print(row)\n",
    "        if row[0] != x[0] or row[1] != x[1]:\n",
    "            d = distance([row[0],row[1]],x)\n",
    "            #print(d)\n",
    "            dlst.append(d)\n",
    "    idxlst = np.argsort(dlst)\n",
    "    return idxlst\n",
    "\n",
    "def classify(x,data):\n",
    "    select = data[['Class label','Alcohol','Malic acid']]\n",
    "    select = select.to_numpy()\n",
    "    x = x.to_numpy()\n",
    "    data = data.to_numpy()\n",
    "    clss = []\n",
    "    for i in range(len(data)):\n",
    "        if select[i,1:3][0]== x[0] and select[i,1:3][1]== x[1]:\n",
    "            clss.append(select[i,0])\n",
    "    #clss = d\n",
    "    #clss = d[d[['Alcohol','Malic acid']] == x]['Class label']\n",
    "    #clss = clss.to_numpy()\n",
    "    #print(clss[np.char.isdigit(clss)])\n",
    "    #clss = clss[i.isdigit() for i in clss]\n",
    "    return clss\n",
    "'''\n",
    "\n",
    "class kNN():\n",
    "    def __init__(self,k):\n",
    "        self.k = k\n",
    "        \n",
    "    def distance(p1,p2):\n",
    "        '''Returns the distance betwen two numpy points'''\n",
    "        return np.sqrt((p1[0] - p2[0])**2 + (p1[1] - p2[1])**2)\n",
    "                     \n",
    "    def kNN_list(x,x_train):\n",
    "        dlst = []\n",
    "        #d = 100000000000\n",
    "        x = x.to_numpy()  \n",
    "        for index, row in x_train.iterrows():\n",
    "            #print(index)\n",
    "            row = row.to_numpy()\n",
    "            #print(row)\n",
    "            if row[0] != x[0] or row[1] != x[1]:\n",
    "                d = distance([row[0],row[1]],x)\n",
    "                #￥print(d)\n",
    "                dlst.append([d,index])\n",
    "                #new_train.append([row[0],row[1]])\n",
    "        #print(dlst)\n",
    "        dlst = dlst\n",
    "        idxlst = sorted(dlst, key=lambda a_entry: a_entry[0]) \n",
    "        finallst = [i[1] for i in idxlst]\n",
    "        return finallst\n",
    "\n",
    "    def get_train_data(self,x_train, y_train):\n",
    "        k = self.k\n",
    "        self.xt = x_train\n",
    "        self.yt = y_train\n",
    "        return self.xt,self.yt\n",
    "    \n",
    "    def predict(self,pt,x_train,y_train):\n",
    "        #print(data)\n",
    "        select = data[['Class label','Alcohol','Malic acid']]\n",
    "        #print(select)\n",
    "        select = select.to_numpy()\n",
    "        #print(select)\n",
    "        near_idlist = kNN_list(pt,x_train)\n",
    "        #print(kNN_list(pt,x_train))\n",
    "        near_idlist = near_idlist[0:self.k]\n",
    "        #print(near_idlist)\n",
    "        nearest_clss = [select[i][0] for i in near_idlist]\n",
    "        #print(nearest_clss)\n",
    "        #idx_set = [classify(x_train[nearest_index[i]],data)[0] for i in range(len(nearest_index))]\n",
    "        pred_clss = stats.mode(nearest_clss)\n",
    "        return pred_clss[0][0]\n",
    "        \n",
    "#x_train, x_test, y_train, y_test\n",
    "#print(x_test.iloc[1])\n",
    "knn = kNN(5)\n",
    "#knn.predict(x_test.iloc[1],x_train,y_train)\n",
    "#print(classify(x_test.iloc[9],data))\n",
    "#print(x_test.iloc[2])\n",
    "y_pred = []\n",
    "for i in range(len(x_test)):\n",
    "    q = knn.predict(x_test.iloc[i],x_train,y_train)\n",
    "    y_pred.append(q)\n",
    "print(y_pred)\n",
    "\n"
   ]
  },
  {
   "cell_type": "markdown",
   "metadata": {},
   "source": [
    "Here are my varification:"
   ]
  },
  {
   "cell_type": "code",
   "execution_count": 254,
   "metadata": {
    "scrolled": true
   },
   "outputs": [
    {
     "name": "stdout",
     "output_type": "stream",
     "text": [
      "[2.0, 2.0, 2.0, 2.0, 2.0, 2.0, 1.0, 3.0, 2.0, 3.0, 2.0, 1.0, 1.0, 3.0, 1.0, 2.0, 3.0, 1.0, 2.0, 1.0, 2.0, 3.0, 1.0, 2.0, 1.0, 2.0, 3.0, 1.0, 3.0, 2.0, 2.0, 2.0, 1.0, 2.0, 2.0, 1.0, 1.0, 1.0, 2.0, 1.0, 1.0, 1.0, 3.0, 2.0, 1.0, 1.0, 1.0, 1.0, 3.0, 2.0, 1.0, 1.0, 1.0, 1.0]\n",
      "[2, 2, 2, 2, 2, 2, 1, 3, 2, 3, 2, 1, 1, 3, 1, 2, 3, 1, 2, 1, 2, 3, 1, 2, 1, 2, 3, 1, 3, 2, 2, 2, 1, 2, 2, 1, 1, 1, 2, 1, 1, 1, 3, 2, 1, 1, 1, 1, 3, 2, 1, 1, 1, 1]\n"
     ]
    }
   ],
   "source": [
    "neigh = skn.KNeighborsClassifier(n_neighbors=5)\n",
    "neigh.fit(x_train,y_train)\n",
    "#print(knn.predict(x_test.iloc[2],x_train,y_train))\n",
    "#print(neigh.predict([x_test.iloc[3]]))\n",
    "y_pred = [knn.predict(x_test.iloc[i],x_train,y_train) for i in range(len(x_test))]\n",
    "print(y_pred)\n",
    "print([neigh.predict([x_test.iloc[i]])[0] for i in range(len(x_test))])"
   ]
  },
  {
   "cell_type": "markdown",
   "metadata": {},
   "source": [
    "I get the same result as sklearn."
   ]
  },
  {
   "cell_type": "markdown",
   "metadata": {},
   "source": [
    "**Question 3.5 (2 points)** Take the predcitions and calculate the accuracy using the \"accuracy_score\" function from the _sklearn.metrics_ package."
   ]
  },
  {
   "cell_type": "code",
   "execution_count": 255,
   "metadata": {},
   "outputs": [
    {
     "name": "stdout",
     "output_type": "stream",
     "text": [
      "0.7592592592592593\n"
     ]
    }
   ],
   "source": [
    "### Put your code here ###\n",
    "import sklearn.metrics\n",
    "#y_pred = [knn.predict(x_test.iloc[i],x_train,y_train) for i in range(len(x_test))]\n",
    "#print(y_pred)\n",
    "accuracy_score = sklearn.metrics.accuracy_score(y_test,y_pred)\n",
    "print(accuracy_score)"
   ]
  },
  {
   "cell_type": "markdown",
   "metadata": {},
   "source": [
    "## Part 4: Finding which hyperparameter works the best. (3 points)\n",
    "\n",
    "Almost all machine learning models have hyperparamters. Hyperparameters are setting(s) in the model that the user needs to choose before learning takes place. For example, in the perceptron model, the learning rate is something that needs to be set by the user before hand. In k-nearest neighbors, the number of neighbors to consider (k), is the hyperparameter. An important task in machine learning is hyperparameter tuning, which is finding the optimal hyperparmeter. In this section, we will generate a plot of the accuracy of a number of different choices of k"
   ]
  },
  {
   "cell_type": "markdown",
   "metadata": {},
   "source": [
    "**Question 4.1 (3 points)** Here, find the accuracy of the kNN model for the following values of k; 1, 5, 10, 50, 100 and make a plot of the accuracy versus these values of k.\n",
    "\n",
    "If you were not able to get the class in Part 3 working, you can use \"KNeighborsClassifier\" from _sklearn.neighbors_ for this question and get full credit. Note, the default parameters of \"KNeighborsClassifier\" are the euclidean distance (i.e.  p=2, metric='minkowski' is the same as the euclidean distance).\n"
   ]
  },
  {
   "cell_type": "code",
   "execution_count": 256,
   "metadata": {},
   "outputs": [
    {
     "name": "stdout",
     "output_type": "stream",
     "text": [
      "[0.7037037037037037, 0.7592592592592593, 0.7407407407407407, 0.8148148148148148, 0.5370370370370371]\n"
     ]
    },
    {
     "data": {
      "text/plain": [
       "Text(0, 0.5, 'accuracy')"
      ]
     },
     "execution_count": 256,
     "metadata": {},
     "output_type": "execute_result"
    },
    {
     "data": {
      "image/png": "[encoded data removed]",
      "text/plain": [
       "<Figure size 432x288 with 1 Axes>"
      ]
     },
     "metadata": {
      "needs_background": "light"
     },
     "output_type": "display_data"
    }
   ],
   "source": [
    "### Put your code here ###\n",
    "accuracy_score_list = []\n",
    "for i in [1, 5, 10, 50, 100]:\n",
    "    knn = kNN(i)\n",
    "    y_pred = [knn.predict(x_test.iloc[i],x_train,y_train) for i in range(len(x_test))]\n",
    "    accuracy_score_list.append(sklearn.metrics.accuracy_score(y_test,y_pred))\n",
    "print(accuracy_score_list)\n",
    "plt.plot([1, 5, 10, 50, 100],accuracy_score_list)\n",
    "plt.xlabel('k value = [1, 5, 10, 50, 100]')\n",
    "plt.ylabel('accuracy')\n"
   ]
  },
  {
   "cell_type": "markdown",
   "metadata": {},
   "source": [
    "---\n",
    "### Assignment wrap-up\n",
    "\n",
    "Please fill out the form that appears when you run the code below.  **You must completely fill this out in order to receive credit for the assignment!**"
   ]
  },
  {
   "cell_type": "code",
   "execution_count": 1,
   "metadata": {},
   "outputs": [
    {
     "data": {
      "text/html": [
       "\n",
       "<iframe \n",
       "\tsrc=\"https://docs.google.com/forms/d/e/1FAIpQLSe0NSZaTZS977kVn0JwUPYnvmqWliTlbM3eeF1qI8SxLpWcRw/viewform?usp=sf_link\" \n",
       "\twidth=\"800px\" \n",
       "\theight=\"600px\" \n",
       "\tframeborder=\"0\" \n",
       "\tmarginheight=\"0\" \n",
       "\tmarginwidth=\"0\">\n",
       "\tLoading...\n",
       "</iframe>\n"
      ],
      "text/plain": [
       "<IPython.core.display.HTML object>"
      ]
     },
     "execution_count": 1,
     "metadata": {},
     "output_type": "execute_result"
    }
   ],
   "source": [
    "from IPython.display import HTML\n",
    "HTML(\n",
    "\"\"\"\n",
    "<iframe \n",
    "\tsrc=\"https://docs.google.com/forms/d/e/1FAIpQLSe0NSZaTZS977kVn0JwUPYnvmqWliTlbM3eeF1qI8SxLpWcRw/viewform?usp=sf_link\" \n",
    "\twidth=\"800px\" \n",
    "\theight=\"600px\" \n",
    "\tframeborder=\"0\" \n",
    "\tmarginheight=\"0\" \n",
    "\tmarginwidth=\"0\">\n",
    "\tLoading...\n",
    "</iframe>\n",
    "\"\"\"\n",
    ")"
   ]
  },
  {
   "cell_type": "markdown",
   "metadata": {},
   "source": [
    "### Congratulations, you're done!\n",
    "\n",
    "Submit this assignment by uploading it to the course Desire2Learn web page.  Go to the \"Homework Assignments\" folder, find the dropbox link for Homework #5, and upload your notebook **and the script you wrote**."
   ]
  },
  {
   "cell_type": "code",
   "execution_count": null,
   "metadata": {},
   "outputs": [],
   "source": []
  }
 ],
 "metadata": {
  "kernelspec": {
   "display_name": "Python 3",
   "language": "python",
   "name": "python3"
  },
  "language_info": {
   "codemirror_mode": {
    "name": "ipython",
    "version": 3
   },
   "file_extension": ".py",
   "mimetype": "text/x-python",
   "name": "python",
   "nbconvert_exporter": "python",
   "pygments_lexer": "ipython3",
   "version": "3.7.4"
  }
 },
 "nbformat": 4,
 "nbformat_minor": 2
}
