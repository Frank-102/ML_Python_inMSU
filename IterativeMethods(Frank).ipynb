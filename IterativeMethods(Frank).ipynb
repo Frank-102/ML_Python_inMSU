{
 "cells": [
  {
   "cell_type": "markdown",
   "metadata": {},
   "source": [
    "HAO WANG"
   ]
  },
  {
   "cell_type": "markdown",
   "metadata": {},
   "source": [
    "In order to successfully complete this assignment, you must follow all instructions in this notebook and upload your edited ipynb file with your answers on or before **11:59pm on Friday Jan. 25th**."
   ]
  },
  {
   "cell_type": "markdown",
   "metadata": {},
   "source": [
    "**Please read though the entire project before starting!**\n",
    "\n",
    "\n",
    "\n",
    "# Homework 1: Iterative Methods\n",
    "\n",
    "\n",
    "<img src=\"http://www.impawards.com/2014/posters/edge_of_tomorrow_ver13.jpg\">\n",
    "\n",
    "In this homework, you will study and compare the convergence rates of two different iterative solvers (Jacobi and Gauss-Seidel). These solvers are described in details in Section 7.4 of the textbook.\n",
    "\n",
    "\n",
    "- Part 1: A General Jacobi Method\n",
    "- Part 2: Matrix Testing\n",
    "- Part 3: Adding Stopping Conditions\n",
    "- Part 4: Gauss-Seidel Method\n"
   ]
  },
  {
   "cell_type": "markdown",
   "metadata": {},
   "source": [
    "----\n",
    "# Part 1: A General Jacobi Method\n",
    "\n",
    "Consider the following system of linear equations:\n",
    "\n",
    "$$ 6x + 2y - 2z = -2$$\n",
    "$$ x + 4y + z = 4$$\n",
    "$$ 2x + 2y + 5z = 32$$\n"
   ]
  },
  {
   "cell_type": "markdown",
   "metadata": {},
   "source": [
    "##  Solve using Numpy\n",
    "\n",
    "Let's find the solution to the above system of linear equation using the ```numpy.linalg.solv``` function. \n",
    "\n",
    "&#9989; <font color=red>**DO THIS:**</font>  create a $3 \\times 3$ ```Numpy``` matrix for the left hand side of the above system of equations (Call this $A$ matrix):"
   ]
  },
  {
   "cell_type": "code",
   "execution_count": 1,
   "metadata": {},
   "outputs": [],
   "source": [
    "import numpy as np\n",
    "A = np.matrix([[6,2,-2],[1,4,1],[2,2,5]])"
   ]
  },
  {
   "cell_type": "markdown",
   "metadata": {},
   "source": [
    "&#9989; **DO THIS:** Create a $3 \\times 1$ ```Numpy``` matrix for the right hand side of the above system of equations (Call this $b$):"
   ]
  },
  {
   "cell_type": "code",
   "execution_count": 4,
   "metadata": {},
   "outputs": [],
   "source": [
    "b = np.matrix([[-2],[4],[32]])"
   ]
  },
  {
   "cell_type": "markdown",
   "metadata": {},
   "source": [
    "&#9989; **DO THIS:** Run the ```numpy.linalg.solv``` function on $A$ and $b$ to find a solution for $x$, $y$, and $z$"
   ]
  },
  {
   "cell_type": "code",
   "execution_count": 5,
   "metadata": {},
   "outputs": [
    {
     "name": "stdout",
     "output_type": "stream",
     "text": [
      "[[ 2.]\n",
      " [-1.]\n",
      " [ 6.]]\n"
     ]
    }
   ],
   "source": [
    "x = np.linalg.solve(A,b)\n",
    "print(x)"
   ]
  },
  {
   "cell_type": "markdown",
   "metadata": {},
   "source": [
    "## Verify Results using Sympy \n",
    "\n",
    "Let's verify the above solution using symbolic methods.  In this case, we are going to convert the problem into an augmented matrix and solve it by putting it in it's reduced row echelon form.\n",
    "\n",
    "&#9989; <font color=red>**DO THIS:**</font> Create a $3 \\times 4$ augmented matrix for the above system of equations:"
   ]
  },
  {
   "cell_type": "code",
   "execution_count": 6,
   "metadata": {},
   "outputs": [
    {
     "name": "stdout",
     "output_type": "stream",
     "text": [
      "Matrix([[6, 2, -2, -2], [1, 4, 1, 4], [2, 2, 5, 32]])\n"
     ]
    }
   ],
   "source": [
    "import sympy as sym\n",
    "sym.init_printing(use_unicode=True)\n",
    "\n",
    "M = sym.Matrix([[6,2,-2,-2],[1,4,1,4],[2,2,5,32]])\n",
    "print(M)\n",
    "\n",
    "\n"
   ]
  },
  {
   "cell_type": "markdown",
   "metadata": {},
   "source": [
    "**DO THIS:** Run the ```rref``` function on your augmented matrix to find a solution for $x,y$ and $z$. "
   ]
  },
  {
   "cell_type": "code",
   "execution_count": 7,
   "metadata": {},
   "outputs": [
    {
     "data": {
      "image/png": "[encoded data removed]",
      "text/latex": [
       "$$\\left ( \\left[\\begin{matrix}1 & 0 & 0 & 2\\\\0 & 1 & 0 & -1\\\\0 & 0 & 1 & 6\\end{matrix}\\right], \\quad \\left ( 0, \\quad 1, \\quad 2\\right )\\right )$$"
      ],
      "text/plain": [
       "⎛⎡1  0  0  2 ⎤           ⎞\n",
       "⎜⎢           ⎥           ⎟\n",
       "⎜⎢0  1  0  -1⎥, (0, 1, 2)⎟\n",
       "⎜⎢           ⎥           ⎟\n",
       "⎝⎣0  0  1  6 ⎦           ⎠"
      ]
     },
     "execution_count": 7,
     "metadata": {},
     "output_type": "execute_result"
    }
   ],
   "source": [
    "M = sym.Matrix([[6,2,-2,-2],[1,4,1,4],[2,2,5,32]])\n",
    "M.rref()\n",
    "\n"
   ]
  },
  {
   "cell_type": "markdown",
   "metadata": {},
   "source": [
    "## Solve using Jacobi\n",
    "\n",
    "The following code defines a function that can take an arbitrary augmented matrix as an input and solve the system with the Jacobi method using the same basic approach we used in class. "
   ]
  },
  {
   "cell_type": "code",
   "execution_count": 8,
   "metadata": {},
   "outputs": [],
   "source": [
    "# Some basid libraries we are using\n",
    "%matplotlib inline\n",
    "import matplotlib.pyplot as plt\n",
    "\n",
    "import numpy as np\n",
    "import sympy as sym\n",
    "sym.init_printing(use_unicode=True)"
   ]
  },
  {
   "cell_type": "code",
   "execution_count": 73,
   "metadata": {},
   "outputs": [],
   "source": [
    "def jacobi(m,numiter=100):\n",
    "    \n",
    "    #Number of rows determins the number of variables\n",
    "    numvars = m.shape[0]\n",
    "    \n",
    "    #construct array for final iterations\n",
    "    history = np.zeros((numvars,numiter))\n",
    "    i = 1\n",
    "    while(i < numiter): #Loop for numiter\n",
    "      \n",
    "        for v in range(numvars): # Loop over all variables\n",
    "            \n",
    "            current = m[v,numvars] # Start with left hand side (augmented side of matrix)\n",
    "            for col in range(numvars): #Loop over columns\n",
    "                if v != col: # Don't count colume for current variable\n",
    "                    current = current - (m[v,col]*history[col, i-1]) #subtract other guesses form previous timestep\n",
    "            current = current/m[v,v] #divide by current variable coefficent\n",
    "\n",
    "            history[v,i] = current #Add this answer to the rest\n",
    "        i = i + 1 #iterate\n",
    "    \n",
    "    #plot each variable\n",
    "    for v in range(numvars):\n",
    "        plt.plot(history[v,: i]);\n",
    "    return history[:,i-1]"
   ]
  },
  {
   "cell_type": "code",
   "execution_count": 74,
   "metadata": {
    "scrolled": false
   },
   "outputs": [
    {
     "data": {
      "text/plain": [
       "array([ 2., -1.,  6.])"
      ]
     },
     "execution_count": 74,
     "metadata": {},
     "output_type": "execute_result"
    },
    {
     "data": {
      "image/png": "[encoded data removed]",
      "text/plain": [
       "<Figure size 432x288 with 1 Axes>"
      ]
     },
     "metadata": {},
     "output_type": "display_data"
    }
   ],
   "source": [
    "jacobi(M)"
   ]
  },
  {
   "cell_type": "markdown",
   "metadata": {},
   "source": [
    "&#9989; <font color=red>**QUESTION:**</font> Inspect the above graph. Approximately how many iterations did the jacobi method take to converge?"
   ]
  },
  {
   "cell_type": "markdown",
   "metadata": {},
   "source": [
    "There are approximately 5 times iterations to coverge"
   ]
  },
  {
   "cell_type": "markdown",
   "metadata": {},
   "source": [
    "## Big Problems\n",
    "\n",
    "Now consider the following large augmented matrix:"
   ]
  },
  {
   "cell_type": "code",
   "execution_count": 13,
   "metadata": {},
   "outputs": [
    {
     "data": {
      "image/png": "[encoded data removed]",
      "text/latex": [
       "$$\\left[\\begin{array}{ccccccccccc}30 & 2 & 7 & 1 & -3 & 8 & 0 & 0 & 3 & 5 & 1\\\\0 & 64 & 15 & 0 & 7 & -4 & 0 & 7 & 7 & 7 & 2\\\\4 & 2 & -88 & 11 & -4 & 8 & 3 & 3 & 9 & 10 & 3\\\\6 & 4 & 7 & 52 & 0 & 0 & 10 & 11 & 0 & -9 & 3\\\\8 & 2 & 24 & 1 & -51 & 8 & 1 & 2 & -1 & -2 & 4\\\\0 & -20 & 7 & 0 & 9 & 43 & 10 & 9 & 4 & 3 & 3\\\\8 & 4 & 17 & -4 & 4 & 8 & 70 & 10 & 9 & 4 & 2\\\\6 & 2 & 3 & -3 & -1 & 8 & 0 & 38 & 11 & -11 & 1\\\\0 & 2 & 5 & -3 & 0 & 8 & 0 & 0 & 33 & -22 & 0\\\\-4 & 16 & 9 & -2 & 1 & 8 & 0 & 0 & 3 & 50 & 10\\end{array}\\right]$$"
      ],
      "text/plain": [
       "⎡30   2    7   1   -3   8   0   0   3    5   1 ⎤\n",
       "⎢                                              ⎥\n",
       "⎢0   64   15   0    7   -4  0   7   7    7   2 ⎥\n",
       "⎢                                              ⎥\n",
       "⎢4    2   -88  11  -4   8   3   3   9   10   3 ⎥\n",
       "⎢                                              ⎥\n",
       "⎢6    4    7   52   0   0   10  11  0   -9   3 ⎥\n",
       "⎢                                              ⎥\n",
       "⎢8    2   24   1   -51  8   1   2   -1  -2   4 ⎥\n",
       "⎢                                              ⎥\n",
       "⎢0   -20   7   0    9   43  10  9   4    3   3 ⎥\n",
       "⎢                                              ⎥\n",
       "⎢8    4   17   -4   4   8   70  10  9    4   2 ⎥\n",
       "⎢                                              ⎥\n",
       "⎢6    2    3   -3  -1   8   0   38  11  -11  1 ⎥\n",
       "⎢                                              ⎥\n",
       "⎢0    2    5   -3   0   8   0   0   33  -22  0 ⎥\n",
       "⎢                                              ⎥\n",
       "⎣-4  16    9   -2   1   8   0   0   3   50   10⎦"
      ]
     },
     "execution_count": 13,
     "metadata": {},
     "output_type": "execute_result"
    }
   ],
   "source": [
    "big_matrix = np.matrix([[30, 2,   7,   1, -3,  8, 0, 0, 3, 5, 1], \n",
    "                        [0,  64,  15,  0,   7,  -4, 0, 7, 7, 7, 2], \n",
    "                        [4,  2,   -88, 11, -4,  8, 3, 3, 9, 10, 3], \n",
    "                        [6,  4,   7,   52, 0,   0, 10, 11, 0, -9, 3], \n",
    "                        [8,  2,   24,  1, -51, 8, 1, 2, -1, -2, 4], \n",
    "                        [0,  -20, 7,   0,  9,  43, 10, 9, 4, 3, 3], \n",
    "                        [8,  4,   17,  -4,  4,  8, 70, 10, 9, 4, 2], \n",
    "                        [6,  2,   3,   -3, -1,  8, 0, 38, 11, -11, 1], \n",
    "                        [0,  2,   5,   -3,  0,  8, 0, 0, 33, -22, 0], \n",
    "                        [-4, 16,  9,   -2,  1,  8, 0, 0, 3, 50, 10]])\n",
    "sym.Matrix(big_matrix)"
   ]
  },
  {
   "cell_type": "markdown",
   "metadata": {},
   "source": [
    "&#9989; <font color=red>**QUESTION:**</font> Verify that the following matrix has a single solution by caclulating it's Reduced row Echelon form using SymPy:"
   ]
  },
  {
   "cell_type": "code",
   "execution_count": 49,
   "metadata": {},
   "outputs": [
    {
     "data": {
      "image/png": "[encoded data removed]",
      "text/latex": [
       "$$\\left ( \\left[\\begin{matrix}1 & 0 & 0 & 2\\\\0 & 1 & 0 & -1\\\\0 & 0 & 1 & 6\\end{matrix}\\right], \\quad \\left ( 0, \\quad 1, \\quad 2\\right )\\right )$$"
      ],
      "text/plain": [
       "⎛⎡1  0  0  2 ⎤           ⎞\n",
       "⎜⎢           ⎥           ⎟\n",
       "⎜⎢0  1  0  -1⎥, (0, 1, 2)⎟\n",
       "⎜⎢           ⎥           ⎟\n",
       "⎝⎣0  0  1  6 ⎦           ⎠"
      ]
     },
     "execution_count": 49,
     "metadata": {},
     "output_type": "execute_result"
    }
   ],
   "source": [
    "import sympy as sym\n",
    "sym.init_printing(use_unicode=True)\n",
    "\n",
    "M = sym.Matrix([[6,2,-2,-2],[1,4,1,4],[2,2,5,32]])\n",
    "M.rref()"
   ]
  },
  {
   "cell_type": "markdown",
   "metadata": {},
   "source": [
    "&#9989; <font color=red>**QUESTION:**</font>  Run the above Jacobi function on the ```big_matrix1```."
   ]
  },
  {
   "cell_type": "code",
   "execution_count": 50,
   "metadata": {},
   "outputs": [
    {
     "data": {
      "image/png": "[encoded data removed]",
      "text/latex": [
       "$$\\left ( \\left[\\begin{array}{ccccccccccc}1 & 0 & 0 & 0 & 0 & 0 & 0 & 0 & 0 & 0 & - \\frac{30439240637484}{838257238820171}\\\\0 & 1 & 0 & 0 & 0 & 0 & 0 & 0 & 0 & 0 & \\frac{7564440298903}{6706057910561368}\\\\0 & 0 & 1 & 0 & 0 & 0 & 0 & 0 & 0 & 0 & \\frac{13935123266934}{838257238820171}\\\\0 & 0 & 0 & 1 & 0 & 0 & 0 & 0 & 0 & 0 & \\frac{274594373478947}{3353028955280684}\\\\0 & 0 & 0 & 0 & 1 & 0 & 0 & 0 & 0 & 0 & - \\frac{62423367217660}{838257238820171}\\\\0 & 0 & 0 & 0 & 0 & 1 & 0 & 0 & 0 & 0 & \\frac{42186306736517}{838257238820171}\\\\0 & 0 & 0 & 0 & 0 & 0 & 1 & 0 & 0 & 0 & \\frac{149970300467}{838257238820171}\\\\0 & 0 & 0 & 0 & 0 & 0 & 0 & 1 & 0 & 0 & \\frac{74479083447717}{1676514477640342}\\\\0 & 0 & 0 & 0 & 0 & 0 & 0 & 0 & 1 & 0 & \\frac{192843172233273}{1676514477640342}\\\\0 & 0 & 0 & 0 & 0 & 0 & 0 & 0 & 0 & 1 & \\frac{153864715547333}{838257238820171}\\end{array}\\right], \\quad \\left ( 0, \\quad 1, \\quad 2, \\quad 3, \\quad 4, \\quad 5, \\quad 6, \\quad 7, \\quad 8, \\quad 9\\right )\\right )$$"
      ],
      "text/plain": [
       "⎛⎡                              -30439240637484 ⎤                             \n",
       "⎜⎢1  0  0  0  0  0  0  0  0  0  ────────────────⎥                             \n",
       "⎜⎢                              838257238820171 ⎥                             \n",
       "⎜⎢                                              ⎥                             \n",
       "⎜⎢                               7564440298903  ⎥                             \n",
       "⎜⎢0  1  0  0  0  0  0  0  0  0  ────────────────⎥                             \n",
       "⎜⎢                              6706057910561368⎥                             \n",
       "⎜⎢                                              ⎥                             \n",
       "⎜⎢                               13935123266934 ⎥                             \n",
       "⎜⎢0  0  1  0  0  0  0  0  0  0  ─────────────── ⎥                             \n",
       "⎜⎢                              838257238820171 ⎥                             \n",
       "⎜⎢                                              ⎥                             \n",
       "⎜⎢                              274594373478947 ⎥                             \n",
       "⎜⎢0  0  0  1  0  0  0  0  0  0  ────────────────⎥                             \n",
       "⎜⎢                              3353028955280684⎥                             \n",
       "⎜⎢                                              ⎥                             \n",
       "⎜⎢                              -62423367217660 ⎥                             \n",
       "⎜⎢0  0  0  0  1  0  0  0  0  0  ────────────────⎥                             \n",
       "⎜⎢                              838257238820171 ⎥                             \n",
       "⎜⎢                                              ⎥, (0, 1, 2, 3, 4, 5, 6, 7, 8,\n",
       "⎜⎢                               42186306736517 ⎥                             \n",
       "⎜⎢0  0  0  0  0  1  0  0  0  0  ─────────────── ⎥                             \n",
       "⎜⎢                              838257238820171 ⎥                             \n",
       "⎜⎢                                              ⎥                             \n",
       "⎜⎢                                149970300467  ⎥                             \n",
       "⎜⎢0  0  0  0  0  0  1  0  0  0  ─────────────── ⎥                             \n",
       "⎜⎢                              838257238820171 ⎥                             \n",
       "⎜⎢                                              ⎥                             \n",
       "⎜⎢                               74479083447717 ⎥                             \n",
       "⎜⎢0  0  0  0  0  0  0  1  0  0  ────────────────⎥                             \n",
       "⎜⎢                              1676514477640342⎥                             \n",
       "⎜⎢                                              ⎥                             \n",
       "⎜⎢                              192843172233273 ⎥                             \n",
       "⎜⎢0  0  0  0  0  0  0  0  1  0  ────────────────⎥                             \n",
       "⎜⎢                              1676514477640342⎥                             \n",
       "⎜⎢                                              ⎥                             \n",
       "⎜⎢                              153864715547333 ⎥                             \n",
       "⎜⎢0  0  0  0  0  0  0  0  0  1  ─────────────── ⎥                             \n",
       "⎝⎣                              838257238820171 ⎦                             \n",
       "\n",
       "   ⎞\n",
       "   ⎟\n",
       "   ⎟\n",
       "   ⎟\n",
       "   ⎟\n",
       "   ⎟\n",
       "   ⎟\n",
       "   ⎟\n",
       "   ⎟\n",
       "   ⎟\n",
       "   ⎟\n",
       "   ⎟\n",
       "   ⎟\n",
       "   ⎟\n",
       "   ⎟\n",
       "   ⎟\n",
       "   ⎟\n",
       "   ⎟\n",
       "   ⎟\n",
       " 9)⎟\n",
       "   ⎟\n",
       "   ⎟\n",
       "   ⎟\n",
       "   ⎟\n",
       "   ⎟\n",
       "   ⎟\n",
       "   ⎟\n",
       "   ⎟\n",
       "   ⎟\n",
       "   ⎟\n",
       "   ⎟\n",
       "   ⎟\n",
       "   ⎟\n",
       "   ⎟\n",
       "   ⎟\n",
       "   ⎟\n",
       "   ⎟\n",
       "   ⎟\n",
       "   ⎠"
      ]
     },
     "execution_count": 50,
     "metadata": {},
     "output_type": "execute_result"
    }
   ],
   "source": [
    "Q = sym.Matrix(big_matrix)\n",
    "Q.rref()"
   ]
  },
  {
   "cell_type": "code",
   "execution_count": 51,
   "metadata": {},
   "outputs": [
    {
     "data": {
      "text/plain": [
       "array([-3.63124690e-02,  1.12808923e-03,  1.66238676e-02,  8.18944403e-02,\n",
       "       -7.44680544e-02,  5.03262953e-02,  1.78983967e-04,  4.44250039e-02,\n",
       "        1.15026133e-01,  1.83553106e-01])"
      ]
     },
     "execution_count": 51,
     "metadata": {},
     "output_type": "execute_result"
    },
    {
     "data": {
      "image/png": "[encoded data removed]",
      "text/plain": [
       "<Figure size 432x288 with 1 Axes>"
      ]
     },
     "metadata": {},
     "output_type": "display_data"
    }
   ],
   "source": [
    "jacobi(big_matrix)"
   ]
  },
  {
   "cell_type": "markdown",
   "metadata": {},
   "source": [
    "# Part 2: Matrix Testing\n",
    "\n",
    "From Theorem 7.1 in the book, we know that the Jacobi method converges when the absolute value of the diagonal elements of each row **dominate** the sum of the absolute value for the other elements in the same row. \n",
    "\n",
    "&#9989; <font color=red>**DO THIS:**</font> Write a function (Lets call it ```checkJacobi```) that takes in a matrix as input and returns ```True``` if the matrix can be solved using the Jacobi method and ```False``` if it can not.  \n",
    "\n",
    "**Note:** You can assume that the matrix is already put into a diagonally dominant form (i.e. do not try to figure out if you need to swap rows)."
   ]
  },
  {
   "cell_type": "code",
   "execution_count": 52,
   "metadata": {},
   "outputs": [],
   "source": [
    "def checkJacobi(m):\n",
    "    x = len(m)\n",
    "    flag=1\n",
    "    for i in range(x):\n",
    "        if 2*abs(m[i,i]) <= np.sum(np.abs(m[i,:])):\n",
    "            flag = 0\n",
    "\n",
    "    if  flag == 0:\n",
    "        return False\n",
    "\n",
    "    return True"
   ]
  },
  {
   "cell_type": "markdown",
   "metadata": {},
   "source": [
    "Lets test the matrix from above"
   ]
  },
  {
   "cell_type": "code",
   "execution_count": 53,
   "metadata": {},
   "outputs": [
    {
     "data": {
      "text/plain": [
       "True"
      ]
     },
     "execution_count": 53,
     "metadata": {},
     "output_type": "execute_result"
    }
   ],
   "source": [
    "checkJacobi(A)"
   ]
  },
  {
   "cell_type": "code",
   "execution_count": 54,
   "metadata": {},
   "outputs": [
    {
     "data": {
      "text/plain": [
       "False"
      ]
     },
     "execution_count": 54,
     "metadata": {},
     "output_type": "execute_result"
    }
   ],
   "source": [
    "checkJacobi(big_matrix)"
   ]
  },
  {
   "cell_type": "markdown",
   "metadata": {},
   "source": [
    "The big_matrix does not satisfy the conidition, but Jacobi method still converges for this case. So this condition is sufficient  but not necessary."
   ]
  },
  {
   "cell_type": "markdown",
   "metadata": {},
   "source": [
    "&#9989; <font color=red>**QUESTION:**</font>  Come up with a new augmented matrix (let's call it $A1$) which represents a system of linear equations with a solution but fails the above ```checkJacobi``` test. "
   ]
  },
  {
   "cell_type": "code",
   "execution_count": 55,
   "metadata": {},
   "outputs": [],
   "source": [
    "A1 = np.matrix([[1,1,3,8],[7,2,9,3],[1,1,1,5]])\n"
   ]
  },
  {
   "cell_type": "markdown",
   "metadata": {},
   "source": [
    "Run the following code to verify there is a solution to your equation by checking it's Reduced Row Echelon form:"
   ]
  },
  {
   "cell_type": "code",
   "execution_count": 56,
   "metadata": {
    "scrolled": false
   },
   "outputs": [
    {
     "data": {
      "image/png": "[encoded data removed]",
      "text/latex": [
       "$$\\left ( \\left[\\begin{matrix}1 & 0 & 0 & - \\frac{7}{2}\\\\0 & 1 & 0 & 7\\\\0 & 0 & 1 & \\frac{3}{2}\\end{matrix}\\right], \\quad \\left ( 0, \\quad 1, \\quad 2\\right )\\right )$$"
      ],
      "text/plain": [
       "⎛⎡1  0  0  -7/2⎤           ⎞\n",
       "⎜⎢             ⎥           ⎟\n",
       "⎜⎢0  1  0   7  ⎥, (0, 1, 2)⎟\n",
       "⎜⎢             ⎥           ⎟\n",
       "⎝⎣0  0  1  3/2 ⎦           ⎠"
      ]
     },
     "execution_count": 56,
     "metadata": {},
     "output_type": "execute_result"
    }
   ],
   "source": [
    "# This should return an identiy matrix on the right hand side\n",
    "sym.Matrix(A1).rref()"
   ]
  },
  {
   "cell_type": "markdown",
   "metadata": {},
   "source": [
    "Run the following code to verify that the system of equations is not row dominant. (i.e. your checkJacobi function should return false)"
   ]
  },
  {
   "cell_type": "code",
   "execution_count": 57,
   "metadata": {},
   "outputs": [
    {
     "data": {
      "text/plain": [
       "False"
      ]
     },
     "execution_count": 57,
     "metadata": {},
     "output_type": "execute_result"
    }
   ],
   "source": [
    "\n",
    "# This should return False\n",
    "checkJacobi(A1)"
   ]
  },
  {
   "cell_type": "markdown",
   "metadata": {},
   "source": [
    "Run the Jacobi function defined above on your new function ($A1$)."
   ]
  },
  {
   "cell_type": "code",
   "execution_count": 58,
   "metadata": {},
   "outputs": [
    {
     "data": {
      "text/plain": [
       "array([1.20533417e+58, 2.08917767e+58, 8.53844989e+57])"
      ]
     },
     "execution_count": 58,
     "metadata": {},
     "output_type": "execute_result"
    },
    {
     "data": {
      "image/png": "[encoded data removed]",
      "text/plain": [
       "<Figure size 432x288 with 1 Axes>"
      ]
     },
     "metadata": {},
     "output_type": "display_data"
    }
   ],
   "source": [
    "jacobi(A1)"
   ]
  },
  {
   "cell_type": "markdown",
   "metadata": {},
   "source": [
    "&#9989; <font color=red>**QUESTION:**</font>  Describe in words how the Jacobi method responds to your $A1$ matrix."
   ]
  },
  {
   "cell_type": "markdown",
   "metadata": {},
   "source": [
    "The jacobi method responds to the A1 matrix is  diffuseness "
   ]
  },
  {
   "cell_type": "markdown",
   "metadata": {},
   "source": [
    "# Step 3: Adding Stopping Conditions\n",
    "\n",
    "&#9989; <font color=red>**DO THIS:**</font>  Copy and paste the Jacobi function from above into the following cell and add a stopping condition for when the iteration has converged.  We will define \"converged\" to mean that all three variables do not change too much, i.e. the values for the current iteration have changed less than some threshold ```e``` from the values for the previous iteration.  \n",
    "\n",
    "Make the threshold ```e``` an input to the function and set the default value to 0.000001."
   ]
  },
  {
   "cell_type": "code",
   "execution_count": 92,
   "metadata": {},
   "outputs": [],
   "source": [
    "def jacobi(m,numiter=100,e=0.000001):\n",
    "    \n",
    "    #Number of rows determins the number of variables\n",
    "    numvars = m.shape[0]\n",
    "    \n",
    "    #construct array for final iterations\n",
    "    history = np.zeros((numvars,numiter))\n",
    "    i = 1\n",
    "    while(i < numiter): #Loop for numiter\n",
    "        \n",
    "        for v in range(numvars): # Loop over all variables\n",
    "            current = m[v,numvars] # Start with left hand side (augmented side of matrix)\n",
    "            for col in range(numvars): #Loop over columns\n",
    "                if v != col: # Don't count colume for current variable\n",
    "                    current = current - (m[v,col]*history[col, i-1]) #subtract other guesses form previous timestep\n",
    "            current = current/m[v,v] #divide by current variable coefficent\n",
    "\n",
    "            history[v,i] = current #Add this answer to the rest\n",
    "        \n",
    "        \n",
    "        #add stopping condition\n",
    "        if np.sum(np.abs(history[:,i]-history[:,i-1]))<=e:\n",
    "            break\n",
    "        i = i + 1 #iterate\n",
    "            \n",
    "    #plot each variable\n",
    "    for v in range(numvars):\n",
    "        plt.plot(history[v,: i]);\n",
    "    return history[:,i-1]"
   ]
  },
  {
   "cell_type": "markdown",
   "metadata": {},
   "source": [
    "Test your code using the three matrices defined above:"
   ]
  },
  {
   "cell_type": "code",
   "execution_count": 93,
   "metadata": {},
   "outputs": [
    {
     "data": {
      "text/plain": [
       "array([ 1.99999983, -0.99999985,  6.00000004])"
      ]
     },
     "execution_count": 93,
     "metadata": {},
     "output_type": "execute_result"
    },
    {
     "data": {
      "image/png": "[encoded data removed]",
      "text/plain": [
       "<Figure size 432x288 with 1 Axes>"
      ]
     },
     "metadata": {},
     "output_type": "display_data"
    }
   ],
   "source": [
    "jacobi(M, 100, 0.000001)"
   ]
  },
  {
   "cell_type": "code",
   "execution_count": 94,
   "metadata": {
    "scrolled": false
   },
   "outputs": [
    {
     "data": {
      "text/plain": [
       "array([-3.63124690e-02,  1.12808923e-03,  1.66238676e-02,  8.18944403e-02,\n",
       "       -7.44680544e-02,  5.03262953e-02,  1.78983967e-04,  4.44250039e-02,\n",
       "        1.15026133e-01,  1.83553106e-01])"
      ]
     },
     "execution_count": 94,
     "metadata": {},
     "output_type": "execute_result"
    },
    {
     "data": {
      "image/png": "[encoded data removed]",
      "text/plain": [
       "<Figure size 432x288 with 1 Axes>"
      ]
     },
     "metadata": {},
     "output_type": "display_data"
    }
   ],
   "source": [
    "jacobi(big_matrix, 100, 0.000001)"
   ]
  },
  {
   "cell_type": "code",
   "execution_count": 95,
   "metadata": {
    "scrolled": false
   },
   "outputs": [
    {
     "data": {
      "text/plain": [
       "array([1.20533417e+58, 2.08917767e+58, 8.53844989e+57])"
      ]
     },
     "execution_count": 95,
     "metadata": {},
     "output_type": "execute_result"
    },
    {
     "data": {
      "image/png": "[encoded data removed]",
      "text/plain": [
       "<Figure size 432x288 with 1 Axes>"
      ]
     },
     "metadata": {},
     "output_type": "display_data"
    }
   ],
   "source": [
    "jacobi(A1, 100, 0.000001)"
   ]
  },
  {
   "cell_type": "markdown",
   "metadata": {},
   "source": [
    "&#9989; <font color=red>**QUESTION:**</font>  What happens to the number of iterations if you increase ```e```?"
   ]
  },
  {
   "cell_type": "markdown",
   "metadata": {},
   "source": [
    "The number of iterations will decrease with the increasing e"
   ]
  },
  {
   "cell_type": "markdown",
   "metadata": {},
   "source": [
    "&#9989; <font color=red>**QUESTION:**</font>  What happens to the number of iterations if you decrease ```e```?"
   ]
  },
  {
   "cell_type": "markdown",
   "metadata": {},
   "source": [
    "The number of iterations will increase with the decreasing e"
   ]
  },
  {
   "cell_type": "markdown",
   "metadata": {},
   "source": [
    "---\n",
    "# Step 4: Gauss-Seidel Method\n",
    "\n",
    "Read the textbook on Section 7.4 of the textbook for the explaination of the Gauss-Seidel method.\n",
    "\n",
    "\n",
    "&#9989; <font color=red>**DO THIS:**</font>  Write a solver for the system of equations using the Gauss-Seidel Method.    Call this function ```GaussSeidel```:"
   ]
  },
  {
   "cell_type": "code",
   "execution_count": 98,
   "metadata": {},
   "outputs": [],
   "source": [
    "def GaussSeidel(m,numiter=100,e=0.000001):\n",
    "    \n",
    "    #Number of rows determins the number of variables\n",
    "    numvars = m.shape[0]\n",
    "    \n",
    "    #construct array for final iterations\n",
    "    history = np.zeros((numvars,numiter))\n",
    "    i = 1\n",
    "    while(i < numiter): #Loop for numiter\n",
    "        \n",
    "        for v in range(numvars): # Loop over all variables\n",
    "            current = m[v,numvars] # Start with left hand side (augmented side of matrix)\n",
    "            for col in range(numvars): #Loop over columns\n",
    "                if col < v:\n",
    "                    current = current - (m[v,col]*history[col, i])\n",
    "                if col > v:\n",
    "                    current = current -(m[v,col]*history[col, i-1])\n",
    "            current = current/m[v,v] #divide by current variable coefficent\n",
    "            \n",
    "            history[v,i] = current #Add this answer to the rest\n",
    "        if np.sum(np.abs(history[:,i]-history[:,i-1]))<=e:\n",
    "            break\n",
    "        i = i+1\n",
    "        \n",
    "                    \n",
    "    #plot each variable\n",
    "    for v in range(numvars):\n",
    "        plt.plot(history[v,: i]);\n",
    "    return history[:,i-1]"
   ]
  },
  {
   "cell_type": "markdown",
   "metadata": {},
   "source": [
    "&#9989; <font color=red>**DO THIS:**</font>  Test your code on the three matrices we have developed so far:"
   ]
  },
  {
   "cell_type": "code",
   "execution_count": 99,
   "metadata": {},
   "outputs": [
    {
     "data": {
      "text/plain": [
       "array([ 1.99999988, -0.99999962,  5.9999999 ])"
      ]
     },
     "execution_count": 99,
     "metadata": {},
     "output_type": "execute_result"
    },
    {
     "data": {
      "image/png": "[encoded data removed]",
      "text/plain": [
       "<Figure size 432x288 with 1 Axes>"
      ]
     },
     "metadata": {},
     "output_type": "display_data"
    }
   ],
   "source": [
    "GaussSeidel(M, 100, 0.000001)"
   ]
  },
  {
   "cell_type": "code",
   "execution_count": 100,
   "metadata": {
    "scrolled": false
   },
   "outputs": [
    {
     "data": {
      "text/plain": [
       "array([-3.63124745e-02,  1.12797098e-03,  1.66238648e-02,  8.18944744e-02,\n",
       "       -7.44680891e-02,  5.03262724e-02,  1.78944955e-04,  4.44249719e-02,\n",
       "        1.15026251e-01,  1.83553118e-01])"
      ]
     },
     "execution_count": 100,
     "metadata": {},
     "output_type": "execute_result"
    },
    {
     "data": {
      "image/png": "[encoded data removed]",
      "text/plain": [
       "<Figure size 432x288 with 1 Axes>"
      ]
     },
     "metadata": {},
     "output_type": "display_data"
    }
   ],
   "source": [
    "GaussSeidel(big_matrix, 100, 0.000001)"
   ]
  },
  {
   "cell_type": "code",
   "execution_count": 101,
   "metadata": {
    "scrolled": false
   },
   "outputs": [
    {
     "data": {
      "text/plain": [
       "array([ 7.86357175e+32,  9.35992887e+32, -1.72235006e+33])"
      ]
     },
     "execution_count": 101,
     "metadata": {},
     "output_type": "execute_result"
    },
    {
     "data": {
      "image/png": "[encoded data removed]",
      "text/plain": [
       "<Figure size 432x288 with 1 Axes>"
      ]
     },
     "metadata": {},
     "output_type": "display_data"
    }
   ],
   "source": [
    "GaussSeidel(A1, 100, 0.000001)"
   ]
  },
  {
   "cell_type": "markdown",
   "metadata": {},
   "source": [
    "&#9989; <font color=red>**QUESTION:**</font>  How are the approaches different? Which approach is better?  Why?"
   ]
  },
  {
   "cell_type": "markdown",
   "metadata": {},
   "source": [
    "Jacobi method is just use only original number to estimate the value of x,y,z\n",
    "But Gauss-Seidel not only use the original number but also use the second round's number to estimate.\n",
    "\n",
    "So, the Gauss-Seidel method is a refinement of the Jacobi method. \n",
    "And also, Gauss-Seidel often have more rapid convergence. \n",
    "\n",
    "About the accuracy, Errors in Gauss-Seidel are only happened the final iteration. \n",
    "As a result, Gauss-Seidel is more accurate than Gaussian elimination in general. \n",
    "\n",
    "So, Gauss-Seidel is a better approach. "
   ]
  },
  {
   "cell_type": "markdown",
   "metadata": {},
   "source": [
    "&#9989; <font color=red>**DO THIS:**</font>  Before turning in your notebook, verify you have answered all the questions.  \n",
    "- Use the Red/Bold (<font color=red>**QUESTION**</font> and <font color=red>**DO THIS**</font> )  text as a guild to where you will be evaluated. \n",
    "- The check mark symbols (&#9989;) are provided to help you keep track of what you have completed. Feel free to remove the check mark after completing each item. \n",
    "- Before submitting your document, clear and restart the Kernel and rerun the entire notebook. **THERE SHOULD BE NO ERRORS**\n",
    "\n",
    "\n",
    "\n",
    "---------\n",
    "### Congratulations, you're done with your Homework assignment!\n",
    "\n",
    "\n",
    "Now, you just need to submit this assignment by uploading it to the course <a href=\"https://d2l.msu.edu/\">Desire2Learn</a> web page for today's dropbox (Don't forget to add your names in the first cell)."
   ]
  },
  {
   "cell_type": "markdown",
   "metadata": {},
   "source": [
    "&#169; Copyright 2018,  Michigan State University Board of Trustees"
   ]
  }
 ],
 "metadata": {
  "kernelspec": {
   "display_name": "Python 3",
   "language": "python",
   "name": "python3"
  },
  "language_info": {
   "codemirror_mode": {
    "name": "ipython",
    "version": 3
   },
   "file_extension": ".py",
   "mimetype": "text/x-python",
   "name": "python",
   "nbconvert_exporter": "python",
   "pygments_lexer": "ipython3",
   "version": "3.7.4"
  }
 },
 "nbformat": 4,
 "nbformat_minor": 2
}
