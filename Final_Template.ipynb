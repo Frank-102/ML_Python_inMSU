{
 "cells": [
  {
   "cell_type": "markdown",
   "metadata": {},
   "source": [
    "# __CMSE  201 - Spring 2020__\n",
    "\n",
    "<img src=\"https://cmse.msu.edu/sites/_cmse/assets/Image/image001.png\"\n",
    "     alt=\"CMSE Grapical Image\"\n",
    "     style=\"float: right; margin-right: 10px;\" \n",
    "     height=\"164\" \n",
    "     width=\"164\" />\n",
    "\n",
    "# Homework 4: Agent-based Models\n",
    "\n",
    "In this homework you will continue to learn about agent-based modeling, by developing and implementing a set of rules for how agents interact with each other.  Make sure to use Slack and help room hours if you run into issues!\n",
    "\n",
    "___"
   ]
  },
  {
   "cell_type": "markdown",
   "metadata": {},
   "source": [
    "## Goals\n",
    "\n",
    "### By the end of the homework assignment you will have practiced:\n",
    "\n",
    "1. Modeling a real world scenario.\n",
    "2. Building and manipulating agent-based models.\n",
    "3. Assessing model outcomes.\n",
    "4. Defining functions to check the state of a model\n"
   ]
  },
  {
   "cell_type": "markdown",
   "metadata": {},
   "source": [
    "## Assignment instructions\n",
    "\n",
    "Work through the following assignment, making sure to follow all of the directions and answer all of the questions.\n",
    "\n",
    "**This assignment is due at 11:59pm on Friday, March 13th.** It should be uploaded into the \"Homework Assignments\" submission folder for Homework #4.  Submission instructions can be found at the end of the notebook."
   ]
  },
  {
   "cell_type": "markdown",
   "metadata": {},
   "source": [
    "## Grading\n",
    "\n",
    "* Question 1: create board function (5 points)\n",
    "* Question 2: initialize board and plot board (5 points)\n",
    "* Question 3: make moves (7 points)\n",
    "* Question 4: teach Jeff to play (5 points)\n",
    "* Question 5: am I cornered (5 points)\n",
    "* Question 6: you've captured me (7 points)\n",
    "* Question 7: smarter moves (5 points)\n",
    "\n",
    "Total points possible: **39**\n",
    "___"
   ]
  },
  {
   "cell_type": "markdown",
   "metadata": {},
   "source": [
    "# Introduction\n",
    "\n",
    "An agent-based model is a model where a set of agents interact according to a set of rules.  This is a general framework that can model many different phenomena.  In this Homework assignment you are going to model a game called Checkers or Draughts:\n",
    "\n",
    "<img src=\"checkers.jpg\" width=400px>\n",
    "\n",
    "If you've never heard of this game before, go play it online! https://cardgames.io/checkers/\n",
    "\n",
    "Here is the description of the game:\n",
    ">The game is played by two players on a checkerboard of 64 squares of 8×8 cells. Each player has 12 chips of the same color (one white and one black) that at the beginning of the game are placed in the black squares of the three rows closest to him. The objective of the checkers game is to capture the opponent’s chips or corner them so that the only moves they can make are those that lead to their capture.\n",
    "\n",
    "To make the coding simple, we change the rule of Checkers a little bit. Here is a summary of the new rules:\n",
    "\n",
    "\n",
    "\n",
    "### How to play \n",
    " The two players take turns to move their chips according to the following movement rules. Each player can only move one chip in each turn.\n",
    " \n",
    "**Movement Rules**\n",
    "* Chips only move diagonally\n",
    "* A chip can take two types of moves: non-capturing move (walk) and capturing move (jump)   \n",
    "* non-capturing move (walk): move a chip diagonally one step forward or one step backward. If there is no open square adjacent to a chip, this chip is blocked and can not walk \n",
    "* capturing move (jump): you can jump a chip over an opponent's chip diagonally and land at the open square behind the chip you jumped. If the square behind your opponent's chip is occupied, you cannot make the jump\n",
    "* When you jump over an opponent's chip, you capture it, remove it from the gameboard\n",
    "* On your turn, if a jump is possible, you must make the jump. \n",
    "\n",
    "### How to win\n",
    "The first player to remove all of his opponent's chips from the board wins the game!\n",
    "\n",
    " "
   ]
  },
  {
   "cell_type": "markdown",
   "metadata": {},
   "source": [
    "We are going to be using \"boards\", or 2D Numpy arrays to show the state of the game.  An integer number in each spot in the array will be used to keep track of what's there:  \n",
    " \n",
    "**0 = an empty black square**  \n",
    "**1 = an empty white square**  \n",
    "**2 = a white chip**  \n",
    "**3 = a black chip**  "
   ]
  },
  {
   "cell_type": "code",
   "execution_count": 2,
   "metadata": {},
   "outputs": [],
   "source": [
    "import numpy as np\n",
    "import matplotlib.pyplot as plt"
   ]
  },
  {
   "cell_type": "markdown",
   "metadata": {},
   "source": [
    "### 1) Write a function called `create_board` that creates an empty 8 x 8 checkerboard  (5 points)\n",
    "\n",
    "The function should create an 8x8 2D Numpy array containing 0s and 1s that represents the checkerboard below. A 1 represents a white square and a 0 represents a black square in the checkerboard.  \n",
    "<img src='https://www.gramcoschoolsupplies.com/pub/media/catalog/product/cache/image/1000x1320/e9c3970ab036de70892d86c6d221abfe/9/3/93622.jpg' width=200px>"
   ]
  },
  {
   "cell_type": "code",
   "execution_count": 3,
   "metadata": {},
   "outputs": [
    {
     "name": "stdout",
     "output_type": "stream",
     "text": [
      "[[0. 1. 0. 1. 0. 1. 0. 1.]\n",
      " [1. 0. 1. 0. 1. 0. 1. 0.]\n",
      " [0. 1. 0. 1. 0. 1. 0. 1.]\n",
      " [1. 0. 1. 0. 1. 0. 1. 0.]\n",
      " [0. 1. 0. 1. 0. 1. 0. 1.]\n",
      " [1. 0. 1. 0. 1. 0. 1. 0.]\n",
      " [0. 1. 0. 1. 0. 1. 0. 1.]\n",
      " [1. 0. 1. 0. 1. 0. 1. 0.]]\n"
     ]
    }
   ],
   "source": [
    "# put your answer here\n",
    "def create_board(length = 8, width = 8):  # default length and width are 8\n",
    "    # hint: you may want to use the modulo operation to find the locations of black squares\n",
    "    board = np.zeros((length,width))\n",
    "    for i in range(length):\n",
    "        for j in range(width):\n",
    "            if (i + j) % 2 == 0:\n",
    "                board[i,j] = 0\n",
    "            else:\n",
    "                board[i,j] = 1 \n",
    "    return board\n",
    "\n",
    "a = create_board()\n",
    "print(a)"
   ]
  },
  {
   "cell_type": "markdown",
   "metadata": {},
   "source": [
    "Use `create_board` to generate an empty board and assign it to the variable `empty_board`. Plot `empty_board` using `plt.imshow` to check if it indeed looks like the above picture (it is Okay  if the colors mismatch) "
   ]
  },
  {
   "cell_type": "code",
   "execution_count": 4,
   "metadata": {},
   "outputs": [
    {
     "data": {
      "text/plain": [
       "<matplotlib.image.AxesImage at 0x1165e1f90>"
      ]
     },
     "execution_count": 4,
     "metadata": {},
     "output_type": "execute_result"
    },
    {
     "data": {
      "image/png": "[encoded data removed]",
      "text/plain": [
       "<Figure size 576x576 with 1 Axes>"
      ]
     },
     "metadata": {
      "needs_background": "light"
     },
     "output_type": "display_data"
    }
   ],
   "source": [
    "# put your answer here\n",
    "\n",
    "empty_board = create_board()\n",
    "\n",
    "fig = plt.figure(figsize=(8,8))\n",
    "\n",
    "plt.imshow(empty_board, cmap='Greys')   # Greys means the white and black\n",
    "\n",
    "#plt.colorbar()"
   ]
  },
  {
   "cell_type": "markdown",
   "metadata": {},
   "source": [
    "### 2) Write a function called `initial_board` that places the 12 white chips and the 12 black chips at their initial locations as shown in the picture below (5 points)\n",
    "<img src=\"checkers.jpg\" width=200px>"
   ]
  },
  {
   "cell_type": "markdown",
   "metadata": {},
   "source": [
    "The function should create an 8x8 2D Numpy array representing the above board with chips. Each entry of the array takes four possible values: 0, 1, 2, 3, where\n",
    "\n",
    "**0 = empty black square**  \n",
    "**1 = empty white square**  \n",
    "**2 = white chip**  \n",
    "**3 = black chip**  \n",
    "\n"
   ]
  },
  {
   "cell_type": "code",
   "execution_count": 5,
   "metadata": {},
   "outputs": [],
   "source": [
    "# put your code here\n",
    "def initial_board(empty_board):\n",
    "    \n",
    "    init_board = empty_board.copy() #copy the empty board\n",
    "    for i in range(empty_board.shape[0]):\n",
    "        for j in range(empty_board.shape[1]):\n",
    "            if i <= 2 and (i+j) % 2 != 0:\n",
    "                init_board[i,j] = 2\n",
    "            elif i >= 5 and (i+j) % 2 != 0:\n",
    "                init_board[i,j] = 3         \n",
    "    return init_board\n",
    "\n",
    "#print(initial_board(empty_board))"
   ]
  },
  {
   "cell_type": "markdown",
   "metadata": {},
   "source": [
    "**Store the initial board to the variable `current_board` and plot it using `plt.imshow`. If your answer is correct, the plot should look like this**\n",
    "<img src=\"2an.png\" width=200px>"
   ]
  },
  {
   "cell_type": "code",
   "execution_count": 6,
   "metadata": {},
   "outputs": [
    {
     "data": {
      "text/plain": [
       "<matplotlib.image.AxesImage at 0x1191f2910>"
      ]
     },
     "execution_count": 6,
     "metadata": {},
     "output_type": "execute_result"
    },
    {
     "data": {
      "image/png": "[encoded data removed]",
      "text/plain": [
       "<Figure size 576x576 with 1 Axes>"
      ]
     },
     "metadata": {
      "needs_background": "light"
     },
     "output_type": "display_data"
    }
   ],
   "source": [
    "# put your code here\n",
    "current_board = initial_board(empty_board)\n",
    "fig = plt.figure(figsize=(8,8))\n",
    "plt.imshow(current_board, cmap='magma') \n",
    "\n",
    "\n"
   ]
  },
  {
   "cell_type": "markdown",
   "metadata": {},
   "source": [
    "**The following function gives you a more vivid plot of the current gameboard. Try it!**"
   ]
  },
  {
   "cell_type": "code",
   "execution_count": 7,
   "metadata": {
    "scrolled": false
   },
   "outputs": [
    {
     "data": {
      "image/png": "[encoded data removed]",
      "text/plain": [
       "<Figure size 432x288 with 1 Axes>"
      ]
     },
     "metadata": {
      "needs_background": "light"
     },
     "output_type": "display_data"
    }
   ],
   "source": [
    "def plot_current_board(current_board,empty_board):\n",
    "    # function that plots the current board \n",
    "    w_x_index= []   # x-locations of white chips\n",
    "    w_y_index= []   # y-locations of white chips\n",
    "    b_x_index = []  # x-locations of black chips\n",
    "    b_y_index = []  # y-locations of black chips\n",
    "    for i in range(8):    # loop every single cells in this board\n",
    "        for j in range(8):\n",
    "            if current_board[i,j]==2: # if the cell is white based on the location of i and j in the current board\n",
    "                w_x_index.append(j)   #make sure the index of x-axis, based on the column \n",
    "                w_y_index.append(i)\n",
    "            if current_board[i,j]==3: # if the cell is black based on the location of i and j in the current board\n",
    "                b_x_index.append(j)\n",
    "                b_y_index.append(i)\n",
    "    plt.imshow(empty_board)     \n",
    "    plt.scatter(w_x_index,w_y_index,marker='o',color = 'w',s=200) \n",
    "                                    #for white chips, the horizontal position or the index of x-axis and the index of y-axis, the marker's \n",
    "                                    #style is O, and the color is white, the size of marker is 200\n",
    "    plt.scatter(b_x_index,b_y_index,marker='o',color = 'k',s=200) \n",
    "                                    #for black chips, the horizontal position or the index of x-axis and the index of y-axis, the marker's \n",
    "                                    #style is O, and the color is w, the size of marker is 200\n",
    "    return \n",
    "\n",
    "plot_current_board(current_board,empty_board)  #combine the current board and empty board together "
   ]
  },
  {
   "cell_type": "markdown",
   "metadata": {},
   "source": [
    "**Add comments to the above function to explain what each line is doing**"
   ]
  },
  {
   "cell_type": "markdown",
   "metadata": {},
   "source": [
    "### 3) Make moves: walk and jump. (7 points)"
   ]
  },
  {
   "cell_type": "markdown",
   "metadata": {},
   "source": [
    "The variable `current_board` stores the current state of the gameboard. By changing its value, we can mimic the moves of the players. Let us now try to move a chip by changing values in `current_board`. According to the movement rule, the white chip at the location (2,1) can take a non-capturing move (a walk) to the location (3,2). Let's realize it!"
   ]
  },
  {
   "cell_type": "code",
   "execution_count": 8,
   "metadata": {},
   "outputs": [
    {
     "data": {
      "image/png": "[encoded data removed]",
      "text/plain": [
       "<Figure size 432x288 with 1 Axes>"
      ]
     },
     "metadata": {
      "needs_background": "light"
     },
     "output_type": "display_data"
    }
   ],
   "source": [
    "# Put your code here\n",
    "# Step 1: eliminate the white chip from its current location [2,1] \n",
    "#         by changing the value of current_board[2,1] from 2 (white chip) to 1 (empty)\n",
    "      \n",
    "current_board[2,1] = 1\n",
    "#Step 2: insert the white chip to its new location [3,2] \n",
    "#by changing the value of current_board[3,2] from 1 (empty) to 2 (white chip)     \n",
    "current_board[3,2] = 2\n",
    "\n",
    "# use the plot_current_board function to plot current_board\n",
    "\n",
    "plot_current_board(current_board,empty_board)"
   ]
  },
  {
   "cell_type": "markdown",
   "metadata": {},
   "source": [
    "Now it's black's turn. According to the movement rule, the black chip at the location (5,4) can walk to the location (4,3). Let's realize it now."
   ]
  },
  {
   "cell_type": "code",
   "execution_count": 9,
   "metadata": {},
   "outputs": [
    {
     "data": {
      "image/png": "[encoded data removed]",
      "text/plain": [
       "<Figure size 432x288 with 1 Axes>"
      ]
     },
     "metadata": {
      "needs_background": "light"
     },
     "output_type": "display_data"
    }
   ],
   "source": [
    "# Put your code here\n",
    "# eliminate the black chip from its current location\n",
    "\n",
    "current_board[5,4] = 0\n",
    "   \n",
    "current_board[4,3] = 3\n",
    "\n",
    "# use the plot_current_board function to plot current_board\n",
    "\n",
    "plot_current_board(current_board,empty_board)\n",
    "\n",
    "\n",
    "# use the plot_current_board function to plot current_board\n",
    "\n"
   ]
  },
  {
   "cell_type": "markdown",
   "metadata": {},
   "source": [
    "Hey, we see an opportunity for a jump! Please jump the white chip at [3,2] over the black chip at [4,3] and remove the black chip from the board."
   ]
  },
  {
   "cell_type": "code",
   "execution_count": 10,
   "metadata": {},
   "outputs": [
    {
     "data": {
      "image/png": "[encoded data removed]",
      "text/plain": [
       "<Figure size 432x288 with 1 Axes>"
      ]
     },
     "metadata": {
      "needs_background": "light"
     },
     "output_type": "display_data"
    }
   ],
   "source": [
    "# Put your code here\n",
    "current_board[3,2] = 1\n",
    "   \n",
    "current_board[5,4] = 2\n",
    "\n",
    "current_board[4,3] = 0\n",
    "\n",
    "plot_current_board(current_board,empty_board)\n"
   ]
  },
  {
   "cell_type": "markdown",
   "metadata": {},
   "source": [
    "### 4) Jeff, can you do this without my help?  (5 points)"
   ]
  },
  {
   "cell_type": "markdown",
   "metadata": {},
   "source": [
    "While we can keep observing from the plot which chip can be moved and writing code to actually move them, it is cooler if we can make everything automatic. I'm going to teach Jeff (my computer) how to play by writing code and functions he can use. Let's start with the easiest automatic task: determining whether a chip exists at a given location. "
   ]
  },
  {
   "cell_type": "markdown",
   "metadata": {},
   "source": [
    "Write a function called `exist_chip` that checks whether there is a chip at a given location on the current board. "
   ]
  },
  {
   "cell_type": "markdown",
   "metadata": {},
   "source": [
    "More explicitly, the function takes the given location and the current board as inputs, and return `True` if there is a chip (white or black) at this location and `False` otherwise"
   ]
  },
  {
   "cell_type": "markdown",
   "metadata": {},
   "source": [
    "You may want to use the `on_board` function to make sure the given location is on board"
   ]
  },
  {
   "cell_type": "code",
   "execution_count": 11,
   "metadata": {},
   "outputs": [],
   "source": [
    "def on_board(i,j,board):\n",
    "    # return True if i,j is on the board, \n",
    "    # otherwise return False\n",
    "    if i >= 0 and i < board.shape[0] and j >= 0 and j < board.shape[1]:\n",
    "        return True\n",
    "    else:\n",
    "        return False"
   ]
  },
  {
   "cell_type": "code",
   "execution_count": 12,
   "metadata": {},
   "outputs": [
    {
     "name": "stdout",
     "output_type": "stream",
     "text": [
      "False\n"
     ]
    }
   ],
   "source": [
    "def exist_chip(i,j,current_board):\n",
    "    # check if the location (i,j) is on board\n",
    "    if on_board(i,j,current_board) == True:\n",
    "        if current_board[i,j] == 3 or current_board[i,j] ==2:\n",
    "            return True\n",
    "        else:\n",
    "            return False\n",
    "    else:\n",
    "        return False\n",
    "    # check if `current_board' has a chip at (i,j)\n",
    "print(exist_chip(8,1,current_board))"
   ]
  },
  {
   "cell_type": "markdown",
   "metadata": {},
   "source": [
    "You can run the following cell to test your `exist_chip` function for correctness. All the outputs should be `True`"
   ]
  },
  {
   "cell_type": "code",
   "execution_count": 13,
   "metadata": {
    "scrolled": true
   },
   "outputs": [
    {
     "name": "stdout",
     "output_type": "stream",
     "text": [
      "True\n",
      "True\n",
      "True\n",
      "True\n"
     ]
    }
   ],
   "source": [
    "current_board = initial_board(empty_board)  \n",
    "print(exist_chip(0,1,current_board) == True)\n",
    "print(exist_chip(7,0,current_board) == True)\n",
    "print(exist_chip(8,1,current_board) == False) \n",
    "print(exist_chip(6,4,current_board) == False)"
   ]
  },
  {
   "cell_type": "markdown",
   "metadata": {},
   "source": [
    "### 5) Am I cornered ? (5 points)"
   ]
  },
  {
   "cell_type": "markdown",
   "metadata": {},
   "source": [
    "The second thing we want to teach Jeff is implementing a non-capturing move (also called a walk) is. Recall that a walk is a diagonal move of a chip to one of its neighboring locations (marked by green below). Remember that the move is only possible when the green squares are empty. Otherwise the chip is cornered.\n",
    "<img src=\"NCmove.png\" width=200px>\n"
   ]
  },
  {
   "cell_type": "markdown",
   "metadata": {},
   "source": [
    "Write a function called `is_walkable` to help Jeff determine whether or not a given chip can take a walk to its neighbours. "
   ]
  },
  {
   "cell_type": "code",
   "execution_count": 14,
   "metadata": {},
   "outputs": [],
   "source": [
    "def is_walkable(i,j,current_board):\n",
    "    # find all the diagonal neighbours of (i,j) that are on board and put them into a list\n",
    "    #(i-1,j+1)\n",
    "    #(i+1,j+1)\n",
    "    #(i-1,j-1)\n",
    "    #(i+1,i-1)\n",
    "    \n",
    "    diagonal_nei = [[i-1,j+1],[i+1,j+1],[i-1,j-1],[i+1,j-1]]\n",
    "    walkable = False  # default the neighbors is false, we cannot move \n",
    "    for a in diagonal_nei:\n",
    "        if on_board(a[0],a[1],current_board):\n",
    "                if current_board[a[0],a[1]] == 1:\n",
    "                    walkable = True\n",
    "                \n",
    "    return  walkable\n",
    "    \n"
   ]
  },
  {
   "cell_type": "markdown",
   "metadata": {},
   "source": [
    "Now you can use the following code to test if your `is_walkable` function is coded correctly. All the outputs should be `True`"
   ]
  },
  {
   "cell_type": "code",
   "execution_count": 15,
   "metadata": {},
   "outputs": [
    {
     "name": "stdout",
     "output_type": "stream",
     "text": [
      "True\n",
      "True\n",
      "True\n",
      "True\n",
      "True\n",
      "True\n"
     ]
    }
   ],
   "source": [
    "current_board = initial_board(empty_board)\n",
    "print(is_walkable(0,1,current_board) == False) # if the function of is_walkable return false, and this result is false equals false, so it return ture\n",
    "print(is_walkable(2,1,current_board) == True)\n",
    "print(is_walkable(2,7,current_board) == True)\n",
    "print(is_walkable(5,0,current_board) == True)\n",
    "print(is_walkable(5,6,current_board) == True)\n",
    "print(is_walkable(6,1,current_board) == False)"
   ]
  },
  {
   "cell_type": "markdown",
   "metadata": {},
   "source": [
    "### 6)  You've captured me (7 points)"
   ]
  },
  {
   "cell_type": "markdown",
   "metadata": {},
   "source": [
    "Recall that a capturing move (also called jump) is a diagonal jump over an opponent's chip. The green squares are possible landing locations of the white chip. The black chip that was jumped over is captured and eliminated from the board. Again, the jump is only possible when the green squares are empty.\n",
    "<img src=\"jump.png\" width=200px>"
   ]
  },
  {
   "cell_type": "markdown",
   "metadata": {},
   "source": [
    "Just like `is_walkable`, the function `is_jumpable` checks if a chip at a given location is jumpable.  Read the functions below and complete the empty comments."
   ]
  },
  {
   "cell_type": "code",
   "execution_count": 16,
   "metadata": {},
   "outputs": [],
   "source": [
    "def can_jump_over(i,j,k,l,current_board):\n",
    "#The function checks whether your chip at (i,j) can jump over (k,l) to the square behind (2*k-i,2*l-j) \n",
    "    if abs(i-k)!=1 or abs(l-j)!=1: # check if (k,l) is a diagonal neighbour of (i,j)\n",
    "        return False  \n",
    "    if current_board[k,l] < 2: # if there is no chip at the (k,l) position: cannot jump\n",
    "        return False\n",
    "    if current_board[i,j] == current_board[k,l]: # if the chip at the (k,l) position is also yours: cannot jump\n",
    "        return False\n",
    "    elif on_board(2*k-i,2*l-j,current_board)==False:# if the square behind (k,l) isn't on board: can't jump \n",
    "        return False\n",
    "    elif current_board[2*k-i,2*l-j]!=0: # if the square behind (k,l) isn't empty: cannot jump\n",
    "        return False\n",
    "    else:                 # otherise: can jump\n",
    "        return True\n"
   ]
  },
  {
   "cell_type": "code",
   "execution_count": 17,
   "metadata": {},
   "outputs": [],
   "source": [
    "def is_jumpable(i,j,current_board):\n",
    "#The function checks whether your chip at (i,j) has a neighbour to jump over\n",
    "    directions=[[i+1,j+1],[i-1,j-1],[i+1,j-1],[i-1,j+1]] # There are four potential locations that the chips can move\n",
    "    for d in directions:                     # iterate every potential locations\n",
    "        if on_board(d[0],d[1],create_board()): # Doing the boolean statement that decided whether this chip in the board or not\n",
    "            if can_jump_over(i,j, d[0],d[1],current_board): # Doing the boolean statement that decided whether this chip can jump over or not\n",
    "                return True                                 # return the result of True, if the this can jump over. \n",
    "    return False"
   ]
  },
  {
   "cell_type": "markdown",
   "metadata": {},
   "source": [
    "### 7)  Smarter moves.  (5 points)"
   ]
  },
  {
   "cell_type": "markdown",
   "metadata": {},
   "source": [
    "In order to become a smart player, Jeff needs to find all walkable and jumpable chips before he chooses one of them to move. Complete the following function that loops over all chips on the current board and returns the row and column indices of all the walkable ones."
   ]
  },
  {
   "cell_type": "code",
   "execution_count": 18,
   "metadata": {},
   "outputs": [],
   "source": [
    "def all_walkable_chips(current_board,whose_move):\n",
    "    # \n",
    "    \n",
    "    row_position =[]  # create a list to store the row indices of walkable chips\n",
    "    col_position =[]  # create a list to store the column indices of walkable chips\n",
    "    if whose_move == 'White':  # if it is White's move\n",
    "        for i in range(8):   # loop over the board\n",
    "            for j in range(8):\n",
    "                if current_board[i,j] == 2 and is_walkable(i,j,current_board):\n",
    "                #add code here to check whether there is a walkable white chip at this location\n",
    "                    row_position.append(i)\n",
    "                    col_position.append(j)\n",
    "    else:                        # if it is White's move\n",
    "        for i in range(8):      # loop over the board\n",
    "            for j in range(8):\n",
    "                if current_board[i,j] == 3:\n",
    "            # add code here to check whether there is a walkable white chip at this location\n",
    "                    row_position.append(i)\n",
    "                    col_position.append(j)\n",
    "    return row_position, col_position"
   ]
  },
  {
   "cell_type": "markdown",
   "metadata": {},
   "source": [
    "Before moving on, test your function using the code below. "
   ]
  },
  {
   "cell_type": "code",
   "execution_count": 19,
   "metadata": {},
   "outputs": [
    {
     "data": {
      "text/plain": [
       "True"
      ]
     },
     "execution_count": 19,
     "metadata": {},
     "output_type": "execute_result"
    }
   ],
   "source": [
    "current_board = initial_board(empty_board)\n",
    "all_walkable_chips(current_board,'White')== ([2,2,2,2],[1,3,5,7])"
   ]
  },
  {
   "cell_type": "markdown",
   "metadata": {},
   "source": [
    "### Congratulations! Now you've taught Jeff the major rules of the game.  \n",
    "There are a few minor details to fill up though, like Jeff needs to know he cannot walk when a jump possible, or that he can jump several times in a row in one turn, or that he can  choose a random piece to move when there are several in the walkable or jumpable list, etc. These details are provided to you below. By glancing at them, you can see how the seemingly unimportant details can take up a majority of your code! Now let's run them and have fun!"
   ]
  },
  {
   "cell_type": "code",
   "execution_count": 20,
   "metadata": {},
   "outputs": [],
   "source": [
    "def all_jumpable_chips(current_board,whose_move):\n",
    "    # Similar to all_walkable_chips, this function finds for a specific player all jumpable \n",
    "    # chips of him and return the locations of those chips\n",
    "     row_position =[]\n",
    "     col_position =[]\n",
    "     if whose_move == 'White':\n",
    "        for i in range(8):\n",
    "          for j in range(8):\n",
    "            if current_board[i,j]==2 and is_jumpable(i,j, current_board):\n",
    "               row_position.append(i)\n",
    "               col_position.append(j)\n",
    "     else:\n",
    "        for i in range(8):\n",
    "          for j in range(8):\n",
    "            if current_board[i,j]==3 and is_jumpable(i,j, current_board):\n",
    "               row_position.append(i)\n",
    "               col_position.append(j)\n",
    "     return row_position, col_position\n",
    "     "
   ]
  },
  {
   "cell_type": "code",
   "execution_count": 21,
   "metadata": {},
   "outputs": [],
   "source": [
    "def where_to_jump(i,j,current_board):  \n",
    "    # This function keeps track of the specific landing location after a jump \n",
    "    if is_jumpable(i,j,current_board) == False:   \n",
    "     print(\"The piece is not jumpable, use the function 'all_jumpable_chips' to find the jumpable pieces\") \n",
    "    else:\n",
    "     new_i = []\n",
    "     new_j = []\n",
    "     directions = [[i+1,j+1],[i-1,j-1],[i+1,j-1],[i-1,j+1]]\n",
    "     for d in directions:\n",
    "         if on_board(d[0],d[1],current_board):\n",
    "           if can_jump_over(i,j, d[0],d[1],current_board):\n",
    "              new_i.append(2*d[0]-i)\n",
    "              new_j.append(2*d[1]-j)\n",
    "     n = len(new_i)\n",
    "     rand_dir = np.random.randint(0,n)\n",
    "     return new_i[rand_dir], new_j[rand_dir]\n",
    "            \n",
    "       "
   ]
  },
  {
   "cell_type": "code",
   "execution_count": 22,
   "metadata": {},
   "outputs": [],
   "source": [
    "def where_to_walk(i,j,current_board):\n",
    "    # this function returns the new chip location after a walk\n",
    "    new_i = []\n",
    "    new_j = []\n",
    "    directions = [[i+1,j+1],[i-1,j-1],[i+1,j-1],[i-1,j+1]]\n",
    "    if is_walkable(i,j,current_board) == False:\n",
    "        print(\"The piece is not jumpable, use the function 'all_movable_chips' to find the jumpable pieces\") \n",
    "    else:\n",
    "         directions = [[i+1,j+1],[i-1,j-1],[i+1,j-1],[i-1,j+1]]\n",
    "    for d in directions:\n",
    "        if on_board(d[0],d[1],current_board):\n",
    "            if is_walkable(d[0],d[1],current_board):\n",
    "                new_i.append(d[0])\n",
    "                new_j.append(d[1])       \n",
    "    n = len(new_i)\n",
    "  \n",
    "    rand_dir = np.random.randint(0,n)\n",
    "\n",
    "    return new_i[rand_dir], new_j[rand_dir]\n",
    "            "
   ]
  },
  {
   "cell_type": "code",
   "execution_count": 23,
   "metadata": {},
   "outputs": [],
   "source": [
    "def jump(i,j,new_i,new_j,current_board): \n",
    "    # This function updates the current board after a jump\n",
    "      current_board[new_i,new_j] = current_board[i,j]\n",
    "      current_board[i,j]=0       \n",
    "      mid_i = round((new_i+i)/2)\n",
    "      mid_j = round((new_j+j)/2)\n",
    "      current_board[mid_i,mid_j] = 0\n",
    "      return current_board\n"
   ]
  },
  {
   "cell_type": "code",
   "execution_count": 24,
   "metadata": {},
   "outputs": [],
   "source": [
    "def walk(i,j,new_i,new_j,current_board): \n",
    "     # This function updates the current board after a walk\n",
    "      current_board[new_i,new_j] = current_board[i,j]                 \n",
    "      current_board[i,j]=0\n",
    "      return current_board"
   ]
  },
  {
   "cell_type": "code",
   "execution_count": 25,
   "metadata": {},
   "outputs": [
    {
     "name": "stdout",
     "output_type": "stream",
     "text": [
      "The piece is not jumpable, use the function 'all_movable_chips' to find the jumpable pieces\n"
     ]
    },
    {
     "ename": "ValueError",
     "evalue": "low >= high",
     "output_type": "error",
     "traceback": [
      "\u001b[0;31m---------------------------------------------------------------------------\u001b[0m",
      "\u001b[0;31mValueError\u001b[0m                                Traceback (most recent call last)",
      "\u001b[0;32m<ipython-input-25-b7380b901132>\u001b[0m in \u001b[0;36m<module>\u001b[0;34m\u001b[0m\n\u001b[1;32m     82\u001b[0m           \u001b[0mi\u001b[0m \u001b[0;34m=\u001b[0m \u001b[0mi_list\u001b[0m\u001b[0;34m[\u001b[0m\u001b[0mind\u001b[0m\u001b[0;34m]\u001b[0m\u001b[0;34m\u001b[0m\u001b[0;34m\u001b[0m\u001b[0m\n\u001b[1;32m     83\u001b[0m           \u001b[0mj\u001b[0m \u001b[0;34m=\u001b[0m \u001b[0mj_list\u001b[0m\u001b[0;34m[\u001b[0m\u001b[0mind\u001b[0m\u001b[0;34m]\u001b[0m\u001b[0;34m\u001b[0m\u001b[0;34m\u001b[0m\u001b[0m\n\u001b[0;32m---> 84\u001b[0;31m           \u001b[0mnew_i\u001b[0m\u001b[0;34m,\u001b[0m\u001b[0mnew_j\u001b[0m \u001b[0;34m=\u001b[0m \u001b[0mwhere_to_walk\u001b[0m\u001b[0;34m(\u001b[0m\u001b[0mi\u001b[0m\u001b[0;34m,\u001b[0m\u001b[0mj\u001b[0m\u001b[0;34m,\u001b[0m\u001b[0mcurrent_board\u001b[0m\u001b[0;34m)\u001b[0m \u001b[0;31m# find the location to walk to\u001b[0m\u001b[0;34m\u001b[0m\u001b[0;34m\u001b[0m\u001b[0m\n\u001b[0m\u001b[1;32m     85\u001b[0m \u001b[0;34m\u001b[0m\u001b[0m\n\u001b[1;32m     86\u001b[0m           \u001b[0mboard_copy\u001b[0m \u001b[0;34m=\u001b[0m \u001b[0mboard\u001b[0m\u001b[0;34m.\u001b[0m\u001b[0mcopy\u001b[0m\u001b[0;34m(\u001b[0m\u001b[0;34m)\u001b[0m\u001b[0;34m\u001b[0m\u001b[0;34m\u001b[0m\u001b[0m\n",
      "\u001b[0;32m<ipython-input-22-ab2f428a2031>\u001b[0m in \u001b[0;36mwhere_to_walk\u001b[0;34m(i, j, current_board)\u001b[0m\n\u001b[1;32m     15\u001b[0m     \u001b[0mn\u001b[0m \u001b[0;34m=\u001b[0m \u001b[0mlen\u001b[0m\u001b[0;34m(\u001b[0m\u001b[0mnew_i\u001b[0m\u001b[0;34m)\u001b[0m\u001b[0;34m\u001b[0m\u001b[0;34m\u001b[0m\u001b[0m\n\u001b[1;32m     16\u001b[0m \u001b[0;34m\u001b[0m\u001b[0m\n\u001b[0;32m---> 17\u001b[0;31m     \u001b[0mrand_dir\u001b[0m \u001b[0;34m=\u001b[0m \u001b[0mnp\u001b[0m\u001b[0;34m.\u001b[0m\u001b[0mrandom\u001b[0m\u001b[0;34m.\u001b[0m\u001b[0mrandint\u001b[0m\u001b[0;34m(\u001b[0m\u001b[0;36m0\u001b[0m\u001b[0;34m,\u001b[0m\u001b[0mn\u001b[0m\u001b[0;34m)\u001b[0m\u001b[0;34m\u001b[0m\u001b[0;34m\u001b[0m\u001b[0m\n\u001b[0m\u001b[1;32m     18\u001b[0m \u001b[0;34m\u001b[0m\u001b[0m\n\u001b[1;32m     19\u001b[0m     \u001b[0;32mreturn\u001b[0m \u001b[0mnew_i\u001b[0m\u001b[0;34m[\u001b[0m\u001b[0mrand_dir\u001b[0m\u001b[0;34m]\u001b[0m\u001b[0;34m,\u001b[0m \u001b[0mnew_j\u001b[0m\u001b[0;34m[\u001b[0m\u001b[0mrand_dir\u001b[0m\u001b[0;34m]\u001b[0m\u001b[0;34m\u001b[0m\u001b[0;34m\u001b[0m\u001b[0m\n",
      "\u001b[0;32mmtrand.pyx\u001b[0m in \u001b[0;36mnumpy.random.mtrand.RandomState.randint\u001b[0;34m()\u001b[0m\n",
      "\u001b[0;32m_bounded_integers.pyx\u001b[0m in \u001b[0;36mnumpy.random._bounded_integers._rand_int64\u001b[0;34m()\u001b[0m\n",
      "\u001b[0;31mValueError\u001b[0m: low >= high"
     ]
    }
   ],
   "source": [
    "# Main function, run it and have fun!! \n",
    "\n",
    "from IPython.display import display, clear_output \n",
    "from time import sleep\n",
    "\n",
    "fig = plt.figure(figsize=(4,4))\n",
    "board = create_board() # create an empty board\n",
    "board_copy = board.copy()  # create a copy of the empty board\n",
    "current_board = initial_board(board)  # board with chips at initial locations\n",
    "for t in range(200): # run 200 turns of the game\n",
    "    whose_move = 'White'  # white and black take turns to move chips\n",
    "    i_list,j_list = all_jumpable_chips(current_board,whose_move) # find all jumpable chips\n",
    "    if i_list:    # if the jumpable set is not empty, a jump must be made\n",
    "      while i_list: # exhaust all the jumps before moving to the next turn\n",
    "        ind = np.random.choice(list(range(len(i_list)))) # randomly pick a chip from the jumpable list\n",
    "        i = i_list[ind]\n",
    "        j = j_list[ind] \n",
    "        new_i,new_j = where_to_jump(i,j,current_board) # find the landing location after the jump \n",
    "        board_copy = board.copy()\n",
    "        board_copy[i,j] = .2\n",
    "        plot_current_board(current_board,board_copy) # highlight the chip that is about to jump in the plot\n",
    "        plt.show()\n",
    "        sleep(0.5)\n",
    "        clear_output(wait=True) \n",
    "        current_board = jump(i,j,new_i,new_j,current_board) # make the jump and update the board\n",
    "        i_list,j_list = all_jumpable_chips(current_board,whose_move)\n",
    "        plot_current_board(current_board,board) # plot the current board  \n",
    "        plt.show()\n",
    "        sleep(0.5)\n",
    "        clear_output(wait=True)           \n",
    "        \n",
    "    else:                    # if no chip is jumpable, check if any of them can walk\n",
    "        i_list,j_list = all_walkable_chips(current_board,whose_move) #find all walkable chips\n",
    "        if i_list:                 # if the walkable list is not empty\n",
    "        \n",
    "          ind = np.random.choice(list(range(len(i_list))))  # randomly choose a chip from the list to walk\n",
    "          i = i_list[ind]\n",
    "          j = j_list[ind]\n",
    "          new_i,new_j = where_to_walk(i,j,current_board) # find the location to walk to\n",
    "          board_copy = board.copy()\n",
    "          board_copy[i,j] = .5\n",
    "          plot_current_board(current_board,board_copy) # highlight the chip about to walk \n",
    "          plt.show()\n",
    "          sleep(0.5)\n",
    "          clear_output(wait=True)\n",
    "          current_board = walk(i,j,new_i,new_j,current_board) # take the walk and update the board\n",
    "          plot_current_board(current_board,board) # plot the current board\n",
    "          plt.show()\n",
    "          sleep(0.5)\n",
    "          clear_output(wait=True)           # Reset display\n",
    "       #   fig.clear() \n",
    "        else:               # if the walkable list is empty, Black wins\n",
    "          print(\"Black wins!\") \n",
    "          break\n",
    "    whose_move = 'Black'# Black's turn\n",
    "    i_list,j_list = all_jumpable_chips(current_board,whose_move) # find all jumpable chips\n",
    "    if i_list:\n",
    "    \n",
    "      while i_list:\n",
    "        \n",
    "        ind = np.random.choice(list(range(len(i_list)))) # randomly pick a chip from the jumpable list\n",
    "        i = i_list[ind]\n",
    "        j = j_list[ind]\n",
    "        new_i,new_j = where_to_jump(i,j,current_board)# find the location to jump to\n",
    "        board_copy = board.copy()\n",
    "        board_copy[i,j] = .5\n",
    "        plot_current_board(current_board,board_copy)# highlight the chip about to jump\n",
    "        plt.show()\n",
    "        sleep(0.5)\n",
    "        clear_output(wait=True)\n",
    "        current_board = jump(i,j,new_i,new_j,current_board) # make the jump \n",
    "        i_list,j_list = all_jumpable_chips(current_board,whose_move) # find all jumpable chips\n",
    "        plot_current_board(current_board,board) # plot the current board\n",
    "        plt.show()\n",
    "        sleep(0.5)\n",
    "        clear_output(wait=True)\n",
    "    else:\n",
    "        i_list,j_list = all_walkable_chips(current_board,whose_move) # find all walkable chips\n",
    "        if i_list:\n",
    "        \n",
    "          ind = np.random.choice(list(range(len(i_list))))\n",
    "          i = i_list[ind]\n",
    "          j = j_list[ind]\n",
    "          new_i,new_j = where_to_walk(i,j,current_board) # find the location to walk to\n",
    "\n",
    "          board_copy = board.copy()\n",
    "          board_copy[i,j] = .5\n",
    "          plot_current_board(current_board,board_copy) # highlight the chip about to walk \n",
    "          plt.show()\n",
    "          sleep(0.5)\n",
    "          clear_output(wait=True)\n",
    "          current_board = walk(i,j,new_i,new_j,current_board) # take the walk\n",
    "          plot_current_board(current_board,board) # plot the current board\n",
    "          plt.show()\n",
    "          sleep(0.5)\n",
    "          clear_output(wait = True)\n",
    "        else:\n",
    "          print(\"White wins!\")\n",
    "          break\n",
    "   \n",
    "    "
   ]
  },
  {
   "cell_type": "markdown",
   "metadata": {},
   "source": [
    "## Congratulations! You're made your first game!"
   ]
  },
  {
   "cell_type": "markdown",
   "metadata": {},
   "source": [
    "### Follow up questions to think about:\n",
    "1. Here we allow chips to move both forward and backward, but the original rule of Checkers only allows the chips to move forward. Can you modify the code to match that rule? \n",
    "2. Right now, players choose which piece to move randomly. Can you write code to make more strategic moves? For example, you may want to allow players to think ahead 1 time step in advance. The question is how to realize this in your code?"
   ]
  },
  {
   "cell_type": "markdown",
   "metadata": {},
   "source": [
    "---\n",
    "## Assignment Wrap-up\n",
    "\n",
    "Fill out the following Google form before you submit your assignment. "
   ]
  },
  {
   "cell_type": "code",
   "execution_count": 181,
   "metadata": {},
   "outputs": [
    {
     "data": {
      "text/html": [
       "\n",
       "<iframe \n",
       "\tsrc=\"https://docs.google.com/forms/d/1hcY2oUQ-uQkjayxVypO_9VgchFoZW_MuM_Y-s5Ry_d8/edit\" \n",
       "\twidth=\"800px\" \n",
       "\theight=\"600px\" \n",
       "\tframeborder=\"0\" \n",
       "\tmarginheight=\"0\" \n",
       "\tmarginwidth=\"0\">\n",
       "\tLoading...\n",
       "</iframe>\n"
      ],
      "text/plain": [
       "<IPython.core.display.HTML object>"
      ]
     },
     "execution_count": 181,
     "metadata": {},
     "output_type": "execute_result"
    }
   ],
   "source": [
    "from IPython.display import HTML\n",
    "HTML(\n",
    "\"\"\"\n",
    "<iframe \n",
    "\tsrc=\"https://docs.google.com/forms/d/1hcY2oUQ-uQkjayxVypO_9VgchFoZW_MuM_Y-s5Ry_d8/edit\" \n",
    "\twidth=\"800px\" \n",
    "\theight=\"600px\" \n",
    "\tframeborder=\"0\" \n",
    "\tmarginheight=\"0\" \n",
    "\tmarginwidth=\"0\">\n",
    "\tLoading...\n",
    "</iframe>\n",
    "\"\"\"\n",
    ")"
   ]
  },
  {
   "cell_type": "markdown",
   "metadata": {},
   "source": [
    "---\n",
    "\n",
    "### Congratulations, you're done!\n",
    "\n",
    "Submit this assignment by uploading it to the course Desire2Learn web page.  Go to the \"Homework Assignments\" section, find the submission folder link for Homework #4, and upload it there."
   ]
  },
  {
   "cell_type": "markdown",
   "metadata": {},
   "source": [
    "&#169; Copyright 2018,  Michigan State University Board of Trustees"
   ]
  }
 ],
 "metadata": {
  "kernelspec": {
   "display_name": "Python 3",
   "language": "python",
   "name": "python3"
  },
  "language_info": {
   "codemirror_mode": {
    "name": "ipython",
    "version": 3
   },
   "file_extension": ".py",
   "mimetype": "text/x-python",
   "name": "python",
   "nbconvert_exporter": "python",
   "pygments_lexer": "ipython3",
   "version": "3.7.4"
  }
 },
 "nbformat": 4,
 "nbformat_minor": 4
}
