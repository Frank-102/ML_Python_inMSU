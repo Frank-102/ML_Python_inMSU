{
 "cells": [
  {
   "cell_type": "markdown",
   "metadata": {},
   "source": [
    "Social 3: Wealth over time \n",
    "Dataset: CPI, GDP per capita, average wage, data can be found in World Bank, IMF\n",
    "Model: Multiply regression by OLS with FE\n",
    "https://www.census.gov/data/datasets/time-series/demo/income-poverty/data-extracts/income-poverty-data-files.html\n",
    "\n",
    "\n",
    "\n",
    "New idea:  general cost of living\n",
    "In the past 20 years, how has the general cost of living changed?\n",
    "Look at minimum wage, average income by area, how much higher education costs have changed, proportion\n",
    "of people that change wealth classes by significant amount, etc\n",
    "\n",
    "\n"
   ]
  },
  {
   "cell_type": "markdown",
   "metadata": {},
   "source": [
    "Group Three\n",
    "\n",
    "\n",
    "Group Member: Ali Cramer, Emily Jevarjian, Hao Wang"
   ]
  },
  {
   "cell_type": "code",
   "execution_count": null,
   "metadata": {},
   "outputs": [],
   "source": []
  }
 ],
 "metadata": {
  "kernelspec": {
   "display_name": "Python 3",
   "language": "python",
   "name": "python3"
  },
  "language_info": {
   "codemirror_mode": {
    "name": "ipython",
    "version": 3
   },
   "file_extension": ".py",
   "mimetype": "text/x-python",
   "name": "python",
   "nbconvert_exporter": "python",
   "pygments_lexer": "ipython3",
   "version": "3.7.4"
  }
 },
 "nbformat": 4,
 "nbformat_minor": 2
}
